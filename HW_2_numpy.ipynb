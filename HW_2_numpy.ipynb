{
  "nbformat": 4,
  "nbformat_minor": 0,
  "metadata": {
    "colab": {
      "provenance": [],
      "authorship_tag": "ABX9TyPNS6CKx1GC5CTw4ORDNrOi",
      "include_colab_link": true
    },
    "kernelspec": {
      "name": "python3",
      "display_name": "Python 3"
    },
    "language_info": {
      "name": "python"
    }
  },
  "cells": [
    {
      "cell_type": "markdown",
      "metadata": {
        "id": "view-in-github",
        "colab_type": "text"
      },
      "source": [
        "<a href=\"https://colab.research.google.com/github/nkharlamova/ML/blob/main/HW_2_numpy.ipynb\" target=\"_parent\"><img src=\"https://colab.research.google.com/assets/colab-badge.svg\" alt=\"Open In Colab\"/></a>"
      ]
    },
    {
      "cell_type": "code",
      "execution_count": null,
      "metadata": {
        "id": "xTMGr6n64Rb5"
      },
      "outputs": [],
      "source": [
        "import numpy as np\n",
        "from numpy import pi"
      ]
    },
    {
      "cell_type": "markdown",
      "source": [
        "**1. Load the dataset**"
      ],
      "metadata": {
        "id": "ecuST-yBoUtK"
      }
    },
    {
      "cell_type": "code",
      "source": [
        "data_set = np.genfromtxt('https://archive.ics.uci.edu/ml/machine-learning-databases/iris/iris.data', dtype=float, delimiter=',', usecols=(0,1,2,3))"
      ],
      "metadata": {
        "id": "dBdqKsit4nAv"
      },
      "execution_count": null,
      "outputs": []
    },
    {
      "cell_type": "markdown",
      "source": [
        "**2. Convert the remaining columns into a 2D array (or ensure that it is already a 2D array)**"
      ],
      "metadata": {
        "id": "FLpM-b2_nGVF"
      }
    },
    {
      "cell_type": "code",
      "source": [
        "# 2 Перетворити колонки, що залишились в 2D масив (або впевнитись, що це уже 2D масив)\n",
        "\n",
        "print('Dimensions: ', data_set.ndim)\n",
        "print('Shape: ', data_set.shape)\n",
        "print('Type: ', type(data_set))\n",
        "print('Size: ', data_set.size)"
      ],
      "metadata": {
        "colab": {
          "base_uri": "https://localhost:8080/"
        },
        "id": "TIr7mOit4q8S",
        "outputId": "e58b753a-94d8-4f46-db81-d9fceafa21b9"
      },
      "execution_count": null,
      "outputs": [
        {
          "output_type": "stream",
          "name": "stdout",
          "text": [
            "Dimensions:  2\n",
            "Shape:  (150, 4)\n",
            "Type:  <class 'numpy.ndarray'>\n",
            "Size:  600\n"
          ]
        }
      ]
    },
    {
      "cell_type": "markdown",
      "source": [
        "**3. Calculate the mean, median, and standard deviation for the first column**"
      ],
      "metadata": {
        "id": "M3sBc7vnnJ_Y"
      }
    },
    {
      "cell_type": "code",
      "source": [
        "# 3 Порахувати mean, median, standard deviation для 1-ї колонки\n",
        "\n",
        "data_mean = np.mean(data_set[:, 0])\n",
        "data_med = np.median(data_set[:, 0])\n",
        "data_stand = np.std(data_set[:, 0])\n",
        "print('Mean Deviation: ', data_mean)\n",
        "print('Median Deviation: ', data_med)\n",
        "print('Standard Deviation: ', data_stand)"
      ],
      "metadata": {
        "colab": {
          "base_uri": "https://localhost:8080/"
        },
        "id": "mgptUlvq4w2d",
        "outputId": "e0da4d94-7471-4c47-eade-3d714d6b70d4"
      },
      "execution_count": null,
      "outputs": [
        {
          "output_type": "stream",
          "name": "stdout",
          "text": [
            "Mean Deviation:  5.843333333333334\n",
            "Median Deviation:  5.8\n",
            "Standard Deviation:  0.8253012917851409\n"
          ]
        }
      ]
    },
    {
      "cell_type": "markdown",
      "source": [
        "**4. Insert 20 np.nan values at random positions in an array (using a regular random function might result in overlapping positions, so find a solution that guarantees 20 unique positions)**"
      ],
      "metadata": {
        "id": "oxzzlIu5nOVd"
      }
    },
    {
      "cell_type": "code",
      "source": [
        "# 4 Вставити 20 значень np.nan на випадкові позиції в масиві\n",
        "# (при використанні звичайного рандому можуть накластись позиції, тому знайти рішення, яке гарантує 20 унікальних позицій)\n",
        "\n",
        "np.random.seed(42)\n",
        "n=20\n",
        "index_nan = np.random.choice(data_set.size, n, replace=False)\n",
        "data_set.ravel()[index_nan] = np.nan\n",
        "print(data_set)\n"
      ],
      "metadata": {
        "colab": {
          "base_uri": "https://localhost:8080/"
        },
        "id": "ZNXCyfzx--DU",
        "outputId": "023ed274-3e21-4615-cb9b-ef24c3114ba5"
      },
      "execution_count": null,
      "outputs": [
        {
          "output_type": "stream",
          "name": "stdout",
          "text": [
            "[[5.1 3.5 1.4 0.2]\n",
            " [4.9 3.  1.4 0.2]\n",
            " [4.7 3.2 nan 0.2]\n",
            " [4.6 3.1 1.5 0.2]\n",
            " [5.  3.6 1.4 0.2]\n",
            " [5.4 3.9 1.7 0.4]\n",
            " [4.6 3.4 1.4 0.3]\n",
            " [5.  3.4 nan 0.2]\n",
            " [4.4 2.9 1.4 0.2]\n",
            " [4.9 3.1 1.5 0.1]\n",
            " [5.4 3.7 1.5 0.2]\n",
            " [4.8 3.4 1.6 0.2]\n",
            " [4.8 3.  1.4 0.1]\n",
            " [4.3 3.  1.1 nan]\n",
            " [5.8 4.  1.2 0.2]\n",
            " [5.7 4.4 1.5 0.4]\n",
            " [5.4 3.9 1.3 0.4]\n",
            " [5.1 3.5 1.4 0.3]\n",
            " [5.7 3.8 1.7 0.3]\n",
            " [5.1 nan nan 0.3]\n",
            " [5.4 3.4 1.7 0.2]\n",
            " [5.1 3.7 nan 0.4]\n",
            " [4.6 3.6 1.  0.2]\n",
            " [5.1 3.3 1.7 0.5]\n",
            " [4.8 3.4 1.9 0.2]\n",
            " [5.  3.  1.6 0.2]\n",
            " [5.  3.4 1.6 0.4]\n",
            " [5.2 nan nan 0.2]\n",
            " [5.2 3.4 1.4 0.2]\n",
            " [4.7 3.2 nan 0.2]\n",
            " [4.8 3.1 1.6 0.2]\n",
            " [5.4 3.4 1.5 0.4]\n",
            " [5.2 4.1 1.5 0.1]\n",
            " [5.5 4.2 1.4 0.2]\n",
            " [4.9 3.1 1.5 0.1]\n",
            " [5.  3.2 1.2 0.2]\n",
            " [5.5 3.5 1.3 0.2]\n",
            " [4.9 3.1 1.5 0.1]\n",
            " [4.4 3.  1.3 0.2]\n",
            " [5.1 3.4 1.5 0.2]\n",
            " [5.  3.5 1.3 0.3]\n",
            " [4.5 2.3 1.3 0.3]\n",
            " [4.4 3.2 1.3 0.2]\n",
            " [5.  3.5 1.6 0.6]\n",
            " [5.1 3.8 1.9 0.4]\n",
            " [4.8 nan 1.4 0.3]\n",
            " [nan 3.8 1.6 0.2]\n",
            " [4.6 3.2 1.4 0.2]\n",
            " [5.3 3.7 1.5 0.2]\n",
            " [5.  3.3 1.4 0.2]\n",
            " [7.  3.2 4.7 1.4]\n",
            " [6.4 3.2 4.5 1.5]\n",
            " [6.9 3.1 4.9 1.5]\n",
            " [nan 2.3 4.  1.3]\n",
            " [6.5 2.8 4.6 1.5]\n",
            " [5.7 2.8 4.5 1.3]\n",
            " [6.3 3.3 4.7 1.6]\n",
            " [4.9 2.4 3.3 1. ]\n",
            " [6.6 2.9 nan 1.3]\n",
            " [5.2 2.7 3.9 1.4]\n",
            " [5.  2.  3.5 1. ]\n",
            " [5.9 3.  4.2 1.5]\n",
            " [6.  2.2 4.  1. ]\n",
            " [6.1 2.9 4.7 1.4]\n",
            " [5.6 2.9 3.6 1.3]\n",
            " [6.7 3.1 4.4 1.4]\n",
            " [5.6 3.  4.5 1.5]\n",
            " [5.8 2.7 4.1 1. ]\n",
            " [6.2 2.2 4.5 1.5]\n",
            " [5.6 2.5 3.9 1.1]\n",
            " [5.9 3.2 4.8 1.8]\n",
            " [nan 2.8 4.  1.3]\n",
            " [6.3 2.5 4.9 1.5]\n",
            " [6.1 2.8 4.7 1.2]\n",
            " [6.4 2.9 4.3 1.3]\n",
            " [6.6 3.  4.4 1.4]\n",
            " [6.8 2.8 4.8 1.4]\n",
            " [6.7 3.  5.  1.7]\n",
            " [6.  2.9 4.5 1.5]\n",
            " [5.7 2.6 3.5 1. ]\n",
            " [5.5 2.4 3.8 1.1]\n",
            " [5.5 2.4 3.7 1. ]\n",
            " [5.8 2.7 3.9 1.2]\n",
            " [6.  2.7 5.1 1.6]\n",
            " [5.4 3.  4.5 1.5]\n",
            " [6.  3.4 4.5 1.6]\n",
            " [6.7 3.1 4.7 1.5]\n",
            " [6.3 nan 4.4 1.3]\n",
            " [5.6 3.  4.1 1.3]\n",
            " [5.5 2.5 4.  1.3]\n",
            " [5.5 2.6 4.4 1.2]\n",
            " [6.1 3.  4.6 1.4]\n",
            " [5.8 nan 4.  1.2]\n",
            " [5.  2.3 3.3 1. ]\n",
            " [5.6 2.7 4.2 1.3]\n",
            " [5.7 3.  4.2 1.2]\n",
            " [5.7 2.9 4.2 1.3]\n",
            " [6.2 2.9 4.3 1.3]\n",
            " [5.1 2.5 3.  1.1]\n",
            " [5.7 2.8 4.1 1.3]\n",
            " [6.3 3.3 6.  2.5]\n",
            " [5.8 2.7 5.1 1.9]\n",
            " [7.1 3.  5.9 2.1]\n",
            " [6.3 2.9 5.6 1.8]\n",
            " [6.5 3.  5.8 nan]\n",
            " [7.6 3.  6.6 2.1]\n",
            " [4.9 2.5 4.5 1.7]\n",
            " [7.3 2.9 6.3 1.8]\n",
            " [6.7 2.5 5.8 1.8]\n",
            " [7.2 3.6 6.1 2.5]\n",
            " [6.5 3.2 5.1 2. ]\n",
            " [6.4 2.7 5.3 1.9]\n",
            " [6.8 3.  5.5 2.1]\n",
            " [5.7 2.5 5.  2. ]\n",
            " [5.8 2.8 5.1 2.4]\n",
            " [6.4 3.2 5.3 2.3]\n",
            " [6.5 3.  5.5 1.8]\n",
            " [7.7 nan 6.7 2.2]\n",
            " [7.7 2.6 6.9 2.3]\n",
            " [6.  2.2 5.  1.5]\n",
            " [6.9 3.2 5.7 2.3]\n",
            " [5.6 2.8 4.9 2. ]\n",
            " [7.7 2.8 6.7 2. ]\n",
            " [6.3 2.7 4.9 1.8]\n",
            " [6.7 3.3 5.7 2.1]\n",
            " [7.2 3.2 6.  1.8]\n",
            " [6.2 2.8 4.8 1.8]\n",
            " [6.1 3.  4.9 1.8]\n",
            " [6.4 2.8 5.6 2.1]\n",
            " [7.2 3.  5.8 1.6]\n",
            " [7.4 2.8 6.1 1.9]\n",
            " [7.9 3.8 6.4 2. ]\n",
            " [6.4 2.8 5.6 2.2]\n",
            " [6.3 2.8 5.1 1.5]\n",
            " [6.1 2.6 5.6 1.4]\n",
            " [7.7 3.  6.1 2.3]\n",
            " [6.3 3.4 5.6 2.4]\n",
            " [6.4 3.1 5.5 1.8]\n",
            " [6.  3.  4.8 1.8]\n",
            " [6.9 3.1 5.4 2.1]\n",
            " [6.7 3.1 5.6 2.4]\n",
            " [6.9 nan 5.1 2.3]\n",
            " [5.8 2.7 5.1 1.9]\n",
            " [6.8 3.2 5.9 2.3]\n",
            " [6.7 3.3 5.7 2.5]\n",
            " [6.7 3.  5.2 2.3]\n",
            " [6.3 2.5 5.  1.9]\n",
            " [nan 3.  5.2 2. ]\n",
            " [6.2 3.4 5.4 2.3]\n",
            " [5.9 3.  5.1 1.8]]\n"
          ]
        }
      ]
    },
    {
      "cell_type": "markdown",
      "source": [
        "**5. Find the positions of the inserted np.nan values in the first column**"
      ],
      "metadata": {
        "id": "H2-nRzmHnZ2W"
      }
    },
    {
      "cell_type": "code",
      "source": [
        "# 5 Знайти позиції вставлених значень np.nan в 1-й колонці\n",
        "\n",
        "count_nan = np.count_nonzero(np.isnan(data_set[:, 0]))\n",
        "print('Count NaN in the 1st Column: ', count_nan)\n",
        "\n",
        "np.isnan(data_set[:, 0])\n",
        "index_gt5 = np.where(np.isnan(data_set[:, 0]))\n",
        "print(\"Positions where NaN: \", index_gt5)\n",
        "\n",
        "count_n_all = np.count_nonzero(np.isnan(data_set))\n",
        "print('Count NaN in the 1st Column: ', count_n_all)"
      ],
      "metadata": {
        "colab": {
          "base_uri": "https://localhost:8080/"
        },
        "id": "tvrtMO_z_l99",
        "outputId": "57be9a3a-1031-401b-c999-b23ffcff31c3"
      },
      "execution_count": null,
      "outputs": [
        {
          "output_type": "stream",
          "name": "stdout",
          "text": [
            "Count NaN in the 1st Column:  4\n",
            "Positions where NaN:  (array([ 46,  53,  71, 147]),)\n",
            "Count NaN in the 1st Column:  20\n"
          ]
        }
      ]
    },
    {
      "cell_type": "markdown",
      "source": [
        "**6. Filter the array with the condition: values in the 3rd column > 1.5 and values in the 1st column < 5.0 (store in another variable)**"
      ],
      "metadata": {
        "id": "CHvBwgukntCl"
      }
    },
    {
      "cell_type": "code",
      "source": [
        "# 6 Відфільтрувати массив за умовою: значення в 3-й колонці > 1.5 та значения в 1-й колонці < 5.0 (зберегти у іншу змінну)\n",
        "\n",
        "filter_data_set = data_set[(data_set[:, 2] > 1.5 ) & (data_set[:, 0] < 5.0 )]\n",
        "print(filter_data_set)"
      ],
      "metadata": {
        "colab": {
          "base_uri": "https://localhost:8080/"
        },
        "id": "RHxiyxWVADvb",
        "outputId": "c5be995b-7f21-4b12-8c8d-87d8380abeb5"
      },
      "execution_count": null,
      "outputs": [
        {
          "output_type": "stream",
          "name": "stdout",
          "text": [
            "[[4.8 3.4 1.6 0.2]\n",
            " [4.8 3.4 1.9 0.2]\n",
            " [4.8 3.1 1.6 0.2]\n",
            " [4.9 2.4 3.3 1. ]\n",
            " [4.9 2.5 4.5 1.7]]\n"
          ]
        }
      ]
    },
    {
      "cell_type": "markdown",
      "source": [
        "**7. Replace all np.nan values with 0**"
      ],
      "metadata": {
        "id": "4zjwjDhlnxco"
      }
    },
    {
      "cell_type": "code",
      "source": [
        "# 7 Замінити всі значення np.nan на 0\n",
        "\n",
        "data_set[np.isnan(data_set)] = 0\n",
        "\n",
        "# view updated array\n",
        "print(data_set)"
      ],
      "metadata": {
        "id": "l-8npuhRAaE_",
        "outputId": "263de4c4-d1cb-41fe-982e-d4a7151bcdd5",
        "colab": {
          "base_uri": "https://localhost:8080/"
        }
      },
      "execution_count": null,
      "outputs": [
        {
          "output_type": "stream",
          "name": "stdout",
          "text": [
            "[[5.1 3.5 1.4 0.2]\n",
            " [4.9 3.  1.4 0.2]\n",
            " [4.7 3.2 0.  0.2]\n",
            " [4.6 3.1 1.5 0.2]\n",
            " [5.  3.6 1.4 0.2]\n",
            " [5.4 3.9 1.7 0.4]\n",
            " [4.6 3.4 1.4 0.3]\n",
            " [5.  3.4 0.  0.2]\n",
            " [4.4 2.9 1.4 0.2]\n",
            " [4.9 3.1 1.5 0.1]\n",
            " [5.4 3.7 1.5 0.2]\n",
            " [4.8 3.4 1.6 0.2]\n",
            " [4.8 3.  1.4 0.1]\n",
            " [4.3 3.  1.1 0. ]\n",
            " [5.8 4.  1.2 0.2]\n",
            " [5.7 4.4 1.5 0.4]\n",
            " [5.4 3.9 1.3 0.4]\n",
            " [5.1 3.5 1.4 0.3]\n",
            " [5.7 3.8 1.7 0.3]\n",
            " [5.1 0.  0.  0.3]\n",
            " [5.4 3.4 1.7 0.2]\n",
            " [5.1 3.7 0.  0.4]\n",
            " [4.6 3.6 1.  0.2]\n",
            " [5.1 3.3 1.7 0.5]\n",
            " [4.8 3.4 1.9 0.2]\n",
            " [5.  3.  1.6 0.2]\n",
            " [5.  3.4 1.6 0.4]\n",
            " [5.2 0.  0.  0.2]\n",
            " [5.2 3.4 1.4 0.2]\n",
            " [4.7 3.2 0.  0.2]\n",
            " [4.8 3.1 1.6 0.2]\n",
            " [5.4 3.4 1.5 0.4]\n",
            " [5.2 4.1 1.5 0.1]\n",
            " [5.5 4.2 1.4 0.2]\n",
            " [4.9 3.1 1.5 0.1]\n",
            " [5.  3.2 1.2 0.2]\n",
            " [5.5 3.5 1.3 0.2]\n",
            " [4.9 3.1 1.5 0.1]\n",
            " [4.4 3.  1.3 0.2]\n",
            " [5.1 3.4 1.5 0.2]\n",
            " [5.  3.5 1.3 0.3]\n",
            " [4.5 2.3 1.3 0.3]\n",
            " [4.4 3.2 1.3 0.2]\n",
            " [5.  3.5 1.6 0.6]\n",
            " [5.1 3.8 1.9 0.4]\n",
            " [4.8 0.  1.4 0.3]\n",
            " [0.  3.8 1.6 0.2]\n",
            " [4.6 3.2 1.4 0.2]\n",
            " [5.3 3.7 1.5 0.2]\n",
            " [5.  3.3 1.4 0.2]\n",
            " [7.  3.2 4.7 1.4]\n",
            " [6.4 3.2 4.5 1.5]\n",
            " [6.9 3.1 4.9 1.5]\n",
            " [0.  2.3 4.  1.3]\n",
            " [6.5 2.8 4.6 1.5]\n",
            " [5.7 2.8 4.5 1.3]\n",
            " [6.3 3.3 4.7 1.6]\n",
            " [4.9 2.4 3.3 1. ]\n",
            " [6.6 2.9 0.  1.3]\n",
            " [5.2 2.7 3.9 1.4]\n",
            " [5.  2.  3.5 1. ]\n",
            " [5.9 3.  4.2 1.5]\n",
            " [6.  2.2 4.  1. ]\n",
            " [6.1 2.9 4.7 1.4]\n",
            " [5.6 2.9 3.6 1.3]\n",
            " [6.7 3.1 4.4 1.4]\n",
            " [5.6 3.  4.5 1.5]\n",
            " [5.8 2.7 4.1 1. ]\n",
            " [6.2 2.2 4.5 1.5]\n",
            " [5.6 2.5 3.9 1.1]\n",
            " [5.9 3.2 4.8 1.8]\n",
            " [0.  2.8 4.  1.3]\n",
            " [6.3 2.5 4.9 1.5]\n",
            " [6.1 2.8 4.7 1.2]\n",
            " [6.4 2.9 4.3 1.3]\n",
            " [6.6 3.  4.4 1.4]\n",
            " [6.8 2.8 4.8 1.4]\n",
            " [6.7 3.  5.  1.7]\n",
            " [6.  2.9 4.5 1.5]\n",
            " [5.7 2.6 3.5 1. ]\n",
            " [5.5 2.4 3.8 1.1]\n",
            " [5.5 2.4 3.7 1. ]\n",
            " [5.8 2.7 3.9 1.2]\n",
            " [6.  2.7 5.1 1.6]\n",
            " [5.4 3.  4.5 1.5]\n",
            " [6.  3.4 4.5 1.6]\n",
            " [6.7 3.1 4.7 1.5]\n",
            " [6.3 0.  4.4 1.3]\n",
            " [5.6 3.  4.1 1.3]\n",
            " [5.5 2.5 4.  1.3]\n",
            " [5.5 2.6 4.4 1.2]\n",
            " [6.1 3.  4.6 1.4]\n",
            " [5.8 0.  4.  1.2]\n",
            " [5.  2.3 3.3 1. ]\n",
            " [5.6 2.7 4.2 1.3]\n",
            " [5.7 3.  4.2 1.2]\n",
            " [5.7 2.9 4.2 1.3]\n",
            " [6.2 2.9 4.3 1.3]\n",
            " [5.1 2.5 3.  1.1]\n",
            " [5.7 2.8 4.1 1.3]\n",
            " [6.3 3.3 6.  2.5]\n",
            " [5.8 2.7 5.1 1.9]\n",
            " [7.1 3.  5.9 2.1]\n",
            " [6.3 2.9 5.6 1.8]\n",
            " [6.5 3.  5.8 0. ]\n",
            " [7.6 3.  6.6 2.1]\n",
            " [4.9 2.5 4.5 1.7]\n",
            " [7.3 2.9 6.3 1.8]\n",
            " [6.7 2.5 5.8 1.8]\n",
            " [7.2 3.6 6.1 2.5]\n",
            " [6.5 3.2 5.1 2. ]\n",
            " [6.4 2.7 5.3 1.9]\n",
            " [6.8 3.  5.5 2.1]\n",
            " [5.7 2.5 5.  2. ]\n",
            " [5.8 2.8 5.1 2.4]\n",
            " [6.4 3.2 5.3 2.3]\n",
            " [6.5 3.  5.5 1.8]\n",
            " [7.7 0.  6.7 2.2]\n",
            " [7.7 2.6 6.9 2.3]\n",
            " [6.  2.2 5.  1.5]\n",
            " [6.9 3.2 5.7 2.3]\n",
            " [5.6 2.8 4.9 2. ]\n",
            " [7.7 2.8 6.7 2. ]\n",
            " [6.3 2.7 4.9 1.8]\n",
            " [6.7 3.3 5.7 2.1]\n",
            " [7.2 3.2 6.  1.8]\n",
            " [6.2 2.8 4.8 1.8]\n",
            " [6.1 3.  4.9 1.8]\n",
            " [6.4 2.8 5.6 2.1]\n",
            " [7.2 3.  5.8 1.6]\n",
            " [7.4 2.8 6.1 1.9]\n",
            " [7.9 3.8 6.4 2. ]\n",
            " [6.4 2.8 5.6 2.2]\n",
            " [6.3 2.8 5.1 1.5]\n",
            " [6.1 2.6 5.6 1.4]\n",
            " [7.7 3.  6.1 2.3]\n",
            " [6.3 3.4 5.6 2.4]\n",
            " [6.4 3.1 5.5 1.8]\n",
            " [6.  3.  4.8 1.8]\n",
            " [6.9 3.1 5.4 2.1]\n",
            " [6.7 3.1 5.6 2.4]\n",
            " [6.9 0.  5.1 2.3]\n",
            " [5.8 2.7 5.1 1.9]\n",
            " [6.8 3.2 5.9 2.3]\n",
            " [6.7 3.3 5.7 2.5]\n",
            " [6.7 3.  5.2 2.3]\n",
            " [6.3 2.5 5.  1.9]\n",
            " [0.  3.  5.2 2. ]\n",
            " [6.2 3.4 5.4 2.3]\n",
            " [5.9 3.  5.1 1.8]]\n"
          ]
        }
      ]
    },
    {
      "cell_type": "markdown",
      "source": [
        "**8. Count all unique values in the array and display them along with their counts**"
      ],
      "metadata": {
        "id": "6OqAs7nin16I"
      }
    },
    {
      "cell_type": "code",
      "source": [
        "# 8 Порахувати всі унікальні значення в массиві та вивести їх разом із кількістю\n",
        "\n",
        "uniqs, counts = np.unique(data_set, return_counts=True)\n",
        "print(\"Unique values : \", uniqs)\n",
        "print(\"Counts       : \", counts)"
      ],
      "metadata": {
        "colab": {
          "base_uri": "https://localhost:8080/"
        },
        "id": "3MVui7XJAuC8",
        "outputId": "7d201d8f-729b-48ae-dbf3-479e89c02636"
      },
      "execution_count": null,
      "outputs": [
        {
          "output_type": "stream",
          "name": "stdout",
          "text": [
            "Unique values :  [0.  0.1 0.2 0.3 0.4 0.5 0.6 1.  1.1 1.2 1.3 1.4 1.5 1.6 1.7 1.8 1.9 2.\n",
            " 2.1 2.2 2.3 2.4 2.5 2.6 2.7 2.8 2.9 3.  3.1 3.2 3.3 3.4 3.5 3.6 3.7 3.8\n",
            " 3.9 4.  4.1 4.2 4.3 4.4 4.5 4.6 4.7 4.8 4.9 5.  5.1 5.2 5.3 5.4 5.5 5.6\n",
            " 5.7 5.8 5.9 6.  6.1 6.2 6.3 6.4 6.5 6.6 6.7 6.8 6.9 7.  7.1 7.2 7.3 7.4\n",
            " 7.6 7.7 7.9]\n",
            "Counts       :  [20  5 28  7  7  1  1  8  4  7 19 20 22 10  6 12  7  7  6  5 11  6 11  4\n",
            "  9 14 10 26 11 13  8 12  7  4  4  5  5  6  4  5  3  8  9  6  7  9 11 14\n",
            " 16  6  3  8  9 12 11 10  5  8  8  4 10  8  4  3 10  3  5  1  1  3  1  1\n",
            "  1  4  1]\n"
          ]
        }
      ]
    },
    {
      "cell_type": "markdown",
      "source": [
        "**9. Split the array vertically into 2 equal parts (each array should have 4 columns, without using absolute numbers)**"
      ],
      "metadata": {
        "id": "kGzYkKxTn6P_"
      }
    },
    {
      "cell_type": "code",
      "source": [
        "# 9 Розбити масив по вертикалі на 2 рівні частини (не використовувати абсолютні числа, мають бути два массиви по 4 колонки)\n",
        "\n",
        "split_data_set_1, split_data_set_2 = np.vsplit(data_set,2)\n",
        "print(split_data_set_1.shape, split_data_set_2.shape)"
      ],
      "metadata": {
        "colab": {
          "base_uri": "https://localhost:8080/"
        },
        "id": "bccgmjXMA0l1",
        "outputId": "9ad9c76d-0089-4a05-c14c-a51f5c9cb8d3"
      },
      "execution_count": null,
      "outputs": [
        {
          "output_type": "stream",
          "name": "stdout",
          "text": [
            "(75, 4) (75, 4)\n"
          ]
        }
      ]
    },
    {
      "cell_type": "markdown",
      "source": [
        "**10. Sort both arrays by the 1st column: the first array in ascending order, and the second array in descending order**"
      ],
      "metadata": {
        "id": "EOE36p7Rn-iR"
      }
    },
    {
      "cell_type": "code",
      "source": [
        "# 10 Відсортувати обидва массиви по 1-й колонці: 1-й за збільшенням, 2-й за зменшенням\n",
        "\n",
        "# sort by the 1st column in ascending order\n",
        "sort_index_1 = split_data_set_1[:, 0].argsort()\n",
        "data_set_1_sort = split_data_set_1[sort_index_1]\n",
        "\n",
        "# sort by the 1st column in descending order\n",
        "sort_index_2 = split_data_set_2[:, 0].argsort()[::-1]\n",
        "\n",
        "data_set_2_sort = split_data_set_2[sort_index_2]\n",
        "\n",
        "# print(sort_index_1)\n",
        "# print(sort_index_2)\n",
        "print(data_set_1_sort, data_set_2_sort)"
      ],
      "metadata": {
        "colab": {
          "base_uri": "https://localhost:8080/"
        },
        "id": "26fC7hrlBEFk",
        "outputId": "0d5c3f2e-39be-4313-e5cd-e96b4ff997c2"
      },
      "execution_count": null,
      "outputs": [
        {
          "output_type": "stream",
          "name": "stdout",
          "text": [
            "[[0.  3.8 1.6 0.2]\n",
            " [0.  2.3 4.  1.3]\n",
            " [0.  2.8 4.  1.3]\n",
            " [4.3 3.  1.1 0. ]\n",
            " [4.4 3.  1.3 0.2]\n",
            " [4.4 3.2 1.3 0.2]\n",
            " [4.4 2.9 1.4 0.2]\n",
            " [4.5 2.3 1.3 0.3]\n",
            " [4.6 3.4 1.4 0.3]\n",
            " [4.6 3.1 1.5 0.2]\n",
            " [4.6 3.6 1.  0.2]\n",
            " [4.6 3.2 1.4 0.2]\n",
            " [4.7 3.2 0.  0.2]\n",
            " [4.7 3.2 0.  0.2]\n",
            " [4.8 0.  1.4 0.3]\n",
            " [4.8 3.4 1.9 0.2]\n",
            " [4.8 3.4 1.6 0.2]\n",
            " [4.8 3.  1.4 0.1]\n",
            " [4.8 3.1 1.6 0.2]\n",
            " [4.9 3.1 1.5 0.1]\n",
            " [4.9 2.4 3.3 1. ]\n",
            " [4.9 3.1 1.5 0.1]\n",
            " [4.9 3.  1.4 0.2]\n",
            " [4.9 3.1 1.5 0.1]\n",
            " [5.  3.5 1.6 0.6]\n",
            " [5.  3.3 1.4 0.2]\n",
            " [5.  2.  3.5 1. ]\n",
            " [5.  3.  1.6 0.2]\n",
            " [5.  3.4 1.6 0.4]\n",
            " [5.  3.5 1.3 0.3]\n",
            " [5.  3.4 0.  0.2]\n",
            " [5.  3.6 1.4 0.2]\n",
            " [5.  3.2 1.2 0.2]\n",
            " [5.1 3.8 1.9 0.4]\n",
            " [5.1 3.4 1.5 0.2]\n",
            " [5.1 3.5 1.4 0.2]\n",
            " [5.1 0.  0.  0.3]\n",
            " [5.1 3.3 1.7 0.5]\n",
            " [5.1 3.7 0.  0.4]\n",
            " [5.1 3.5 1.4 0.3]\n",
            " [5.2 4.1 1.5 0.1]\n",
            " [5.2 3.4 1.4 0.2]\n",
            " [5.2 0.  0.  0.2]\n",
            " [5.2 2.7 3.9 1.4]\n",
            " [5.3 3.7 1.5 0.2]\n",
            " [5.4 3.9 1.7 0.4]\n",
            " [5.4 3.4 1.5 0.4]\n",
            " [5.4 3.4 1.7 0.2]\n",
            " [5.4 3.7 1.5 0.2]\n",
            " [5.4 3.9 1.3 0.4]\n",
            " [5.5 3.5 1.3 0.2]\n",
            " [5.5 4.2 1.4 0.2]\n",
            " [5.6 2.9 3.6 1.3]\n",
            " [5.6 2.5 3.9 1.1]\n",
            " [5.6 3.  4.5 1.5]\n",
            " [5.7 2.8 4.5 1.3]\n",
            " [5.7 4.4 1.5 0.4]\n",
            " [5.7 3.8 1.7 0.3]\n",
            " [5.8 4.  1.2 0.2]\n",
            " [5.8 2.7 4.1 1. ]\n",
            " [5.9 3.  4.2 1.5]\n",
            " [5.9 3.2 4.8 1.8]\n",
            " [6.  2.2 4.  1. ]\n",
            " [6.1 2.8 4.7 1.2]\n",
            " [6.1 2.9 4.7 1.4]\n",
            " [6.2 2.2 4.5 1.5]\n",
            " [6.3 3.3 4.7 1.6]\n",
            " [6.3 2.5 4.9 1.5]\n",
            " [6.4 2.9 4.3 1.3]\n",
            " [6.4 3.2 4.5 1.5]\n",
            " [6.5 2.8 4.6 1.5]\n",
            " [6.6 2.9 0.  1.3]\n",
            " [6.7 3.1 4.4 1.4]\n",
            " [6.9 3.1 4.9 1.5]\n",
            " [7.  3.2 4.7 1.4]] [[7.9 3.8 6.4 2. ]\n",
            " [7.7 2.8 6.7 2. ]\n",
            " [7.7 2.6 6.9 2.3]\n",
            " [7.7 0.  6.7 2.2]\n",
            " [7.7 3.  6.1 2.3]\n",
            " [7.6 3.  6.6 2.1]\n",
            " [7.4 2.8 6.1 1.9]\n",
            " [7.3 2.9 6.3 1.8]\n",
            " [7.2 3.  5.8 1.6]\n",
            " [7.2 3.6 6.1 2.5]\n",
            " [7.2 3.2 6.  1.8]\n",
            " [7.1 3.  5.9 2.1]\n",
            " [6.9 3.1 5.4 2.1]\n",
            " [6.9 0.  5.1 2.3]\n",
            " [6.9 3.2 5.7 2.3]\n",
            " [6.8 3.2 5.9 2.3]\n",
            " [6.8 2.8 4.8 1.4]\n",
            " [6.8 3.  5.5 2.1]\n",
            " [6.7 3.3 5.7 2.1]\n",
            " [6.7 3.1 5.6 2.4]\n",
            " [6.7 2.5 5.8 1.8]\n",
            " [6.7 3.1 4.7 1.5]\n",
            " [6.7 3.3 5.7 2.5]\n",
            " [6.7 3.  5.2 2.3]\n",
            " [6.7 3.  5.  1.7]\n",
            " [6.6 3.  4.4 1.4]\n",
            " [6.5 3.2 5.1 2. ]\n",
            " [6.5 3.  5.5 1.8]\n",
            " [6.5 3.  5.8 0. ]\n",
            " [6.4 2.8 5.6 2.1]\n",
            " [6.4 2.8 5.6 2.2]\n",
            " [6.4 3.2 5.3 2.3]\n",
            " [6.4 3.1 5.5 1.8]\n",
            " [6.4 2.7 5.3 1.9]\n",
            " [6.3 2.8 5.1 1.5]\n",
            " [6.3 3.3 6.  2.5]\n",
            " [6.3 0.  4.4 1.3]\n",
            " [6.3 2.9 5.6 1.8]\n",
            " [6.3 3.4 5.6 2.4]\n",
            " [6.3 2.7 4.9 1.8]\n",
            " [6.3 2.5 5.  1.9]\n",
            " [6.2 2.9 4.3 1.3]\n",
            " [6.2 3.4 5.4 2.3]\n",
            " [6.2 2.8 4.8 1.8]\n",
            " [6.1 2.6 5.6 1.4]\n",
            " [6.1 3.  4.9 1.8]\n",
            " [6.1 3.  4.6 1.4]\n",
            " [6.  3.4 4.5 1.6]\n",
            " [6.  2.7 5.1 1.6]\n",
            " [6.  2.9 4.5 1.5]\n",
            " [6.  2.2 5.  1.5]\n",
            " [6.  3.  4.8 1.8]\n",
            " [5.9 3.  5.1 1.8]\n",
            " [5.8 2.7 5.1 1.9]\n",
            " [5.8 2.8 5.1 2.4]\n",
            " [5.8 0.  4.  1.2]\n",
            " [5.8 2.7 3.9 1.2]\n",
            " [5.8 2.7 5.1 1.9]\n",
            " [5.7 2.9 4.2 1.3]\n",
            " [5.7 2.6 3.5 1. ]\n",
            " [5.7 2.5 5.  2. ]\n",
            " [5.7 3.  4.2 1.2]\n",
            " [5.7 2.8 4.1 1.3]\n",
            " [5.6 3.  4.1 1.3]\n",
            " [5.6 2.7 4.2 1.3]\n",
            " [5.6 2.8 4.9 2. ]\n",
            " [5.5 2.5 4.  1.3]\n",
            " [5.5 2.6 4.4 1.2]\n",
            " [5.5 2.4 3.7 1. ]\n",
            " [5.5 2.4 3.8 1.1]\n",
            " [5.4 3.  4.5 1.5]\n",
            " [5.1 2.5 3.  1.1]\n",
            " [5.  2.3 3.3 1. ]\n",
            " [4.9 2.5 4.5 1.7]\n",
            " [0.  3.  5.2 2. ]]\n"
          ]
        }
      ]
    },
    {
      "cell_type": "markdown",
      "source": [
        "**11. Merge both arrays into one single array**"
      ],
      "metadata": {
        "id": "N-UHsLfQoC47"
      }
    },
    {
      "cell_type": "code",
      "source": [
        "# 11 Зібрати обидва массиви в одне ціле\n",
        "\n",
        "data_set_new = np.vstack([data_set_1_sort,data_set_2_sort])\n",
        "print(data_set_new.shape)\n",
        "\n",
        "#view updated array\n",
        "#print(data_set_new)"
      ],
      "metadata": {
        "colab": {
          "base_uri": "https://localhost:8080/"
        },
        "id": "ywAfi4fzBPwe",
        "outputId": "1ad5b29c-b605-4f70-af5d-aa52ed9cbe0d"
      },
      "execution_count": null,
      "outputs": [
        {
          "output_type": "stream",
          "name": "stdout",
          "text": [
            "(150, 4)\n"
          ]
        }
      ]
    },
    {
      "cell_type": "markdown",
      "source": [
        "**12. Find the most frequently occurring value in the array**"
      ],
      "metadata": {
        "id": "_oMp8y9VoG0T"
      }
    },
    {
      "cell_type": "code",
      "source": [
        "# 12 Знайти найбільш часто повторюване значення в массиві\n",
        "\n",
        "flat_array = data_set_new.flatten()\n",
        "\n",
        "most_frequent_val, c_index = np.unique(flat_array, return_inverse=True)\n",
        "most_frequent_val[np.argmax(np.bincount(c_index))]"
      ],
      "metadata": {
        "colab": {
          "base_uri": "https://localhost:8080/"
        },
        "id": "6tcKZMe2BksW",
        "outputId": "c8f85d2c-74b4-4924-b20b-2f177c5ae35a"
      },
      "execution_count": null,
      "outputs": [
        {
          "output_type": "execute_result",
          "data": {
            "text/plain": [
              "0.2"
            ]
          },
          "metadata": {},
          "execution_count": 15
        }
      ]
    },
    {
      "cell_type": "markdown",
      "source": [
        "**13. Write a function that multiplies all values in a column that are less than the column's average by 2, and divides all other values by 4**"
      ],
      "metadata": {
        "id": "ytI6SUbYoK-l"
      }
    },
    {
      "cell_type": "code",
      "source": [
        "# 13 Написати функцію, яка б множила всі значення в колонці, які менше середнього значения в цій колонці, на 2, і ділила інші значення на 4.\n",
        "\n",
        "def modify_data_in_column(column):\n",
        "\n",
        "    column_mean = np.mean(column)\n",
        "    column = np.where(column < column_mean, column * 2, column / 4)\n",
        "\n",
        "    return column\n"
      ],
      "metadata": {
        "id": "3jFuMgGLkBO6"
      },
      "execution_count": null,
      "outputs": []
    },
    {
      "cell_type": "markdown",
      "source": [
        "**14. Apply the obtained function to the 3rd column**"
      ],
      "metadata": {
        "id": "x_sGST1OoPTv"
      }
    },
    {
      "cell_type": "code",
      "source": [
        "# 14 Застосувати отриману функцію до 3-ї колонки\n",
        "\n",
        "modify_data_in_column(data_set[:, 2])\n"
      ],
      "metadata": {
        "colab": {
          "base_uri": "https://localhost:8080/"
        },
        "id": "yMuzz0wlmCOZ",
        "outputId": "ca32cbc4-f0fe-4666-ca00-43490a6ae907"
      },
      "execution_count": null,
      "outputs": [
        {
          "output_type": "execute_result",
          "data": {
            "text/plain": [
              "array([2.8  , 2.8  , 0.   , 3.   , 2.8  , 3.4  , 2.8  , 0.   , 2.8  ,\n",
              "       3.   , 3.   , 3.2  , 2.8  , 2.2  , 2.4  , 3.   , 2.6  , 2.8  ,\n",
              "       3.4  , 0.   , 3.4  , 0.   , 2.   , 3.4  , 3.8  , 3.2  , 3.2  ,\n",
              "       0.   , 2.8  , 0.   , 3.2  , 3.   , 3.   , 2.8  , 3.   , 2.4  ,\n",
              "       2.6  , 3.   , 2.6  , 3.   , 2.6  , 2.6  , 2.6  , 3.2  , 3.8  ,\n",
              "       2.8  , 3.2  , 2.8  , 3.   , 2.8  , 1.175, 1.125, 1.225, 1.   ,\n",
              "       1.15 , 1.125, 1.175, 6.6  , 0.   , 0.975, 7.   , 1.05 , 1.   ,\n",
              "       1.175, 7.2  , 1.1  , 1.125, 1.025, 1.125, 0.975, 1.2  , 1.   ,\n",
              "       1.225, 1.175, 1.075, 1.1  , 1.2  , 1.25 , 1.125, 7.   , 0.95 ,\n",
              "       0.925, 0.975, 1.275, 1.125, 1.125, 1.175, 1.1  , 1.025, 1.   ,\n",
              "       1.1  , 1.15 , 1.   , 6.6  , 1.05 , 1.05 , 1.05 , 1.075, 6.   ,\n",
              "       1.025, 1.5  , 1.275, 1.475, 1.4  , 1.45 , 1.65 , 1.125, 1.575,\n",
              "       1.45 , 1.525, 1.275, 1.325, 1.375, 1.25 , 1.275, 1.325, 1.375,\n",
              "       1.675, 1.725, 1.25 , 1.425, 1.225, 1.675, 1.225, 1.425, 1.5  ,\n",
              "       1.2  , 1.225, 1.4  , 1.45 , 1.525, 1.6  , 1.4  , 1.275, 1.4  ,\n",
              "       1.525, 1.4  , 1.375, 1.2  , 1.35 , 1.4  , 1.275, 1.275, 1.475,\n",
              "       1.425, 1.3  , 1.25 , 1.3  , 1.35 , 1.275])"
            ]
          },
          "metadata": {},
          "execution_count": 19
        }
      ]
    }
  ]
}