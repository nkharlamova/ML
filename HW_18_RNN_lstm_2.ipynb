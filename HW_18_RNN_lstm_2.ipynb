{
  "nbformat": 4,
  "nbformat_minor": 0,
  "metadata": {
    "colab": {
      "provenance": [],
      "authorship_tag": "ABX9TyP8jF4B1J0r1xFSvUEkQ9DG",
      "include_colab_link": true
    },
    "kernelspec": {
      "name": "python3",
      "display_name": "Python 3"
    },
    "language_info": {
      "name": "python"
    }
  },
  "cells": [
    {
      "cell_type": "markdown",
      "metadata": {
        "id": "view-in-github",
        "colab_type": "text"
      },
      "source": [
        "<a href=\"https://colab.research.google.com/github/nkharlamova/ML/blob/main/HW_18_RNN_lstm_2.ipynb\" target=\"_parent\"><img src=\"https://colab.research.google.com/assets/colab-badge.svg\" alt=\"Open In Colab\"/></a>"
      ]
    },
    {
      "cell_type": "markdown",
      "source": [
        "**TASK: To perform classification on the IMDB dataset using RNN.**"
      ],
      "metadata": {
        "id": "qMcXJdQs9FqQ"
      }
    },
    {
      "cell_type": "markdown",
      "source": [
        "**Dataset: https://keras.io/api/datasets/imdb/**"
      ],
      "metadata": {
        "id": "j6dpzHVf-x0l"
      }
    },
    {
      "cell_type": "code",
      "source": [
        "import numpy as np\n",
        "\n",
        "from keras.datasets import imdb\n",
        "from keras.preprocessing import sequence\n",
        "from keras.models import Sequential\n",
        "from keras.layers import Dense, Embedding, LSTM, Dropout\n",
        "from keras.callbacks import EarlyStopping\n",
        "\n",
        "import matplotlib.pyplot as plt"
      ],
      "metadata": {
        "id": "7tFnxl2IdLG4"
      },
      "execution_count": null,
      "outputs": []
    },
    {
      "cell_type": "markdown",
      "source": [
        "**Saving some parameters for the text.**"
      ],
      "metadata": {
        "id": "2-F_8Z2y3Y-W"
      }
    },
    {
      "cell_type": "code",
      "source": [
        "# Збережемо деякі параметри для тексту\n",
        "max_features = 30000\n",
        "maxlen = 200"
      ],
      "metadata": {
        "id": "xSd9tkfOdMQ7"
      },
      "execution_count": null,
      "outputs": []
    },
    {
      "cell_type": "markdown",
      "source": [
        "**Loading the IMDB data.**"
      ],
      "metadata": {
        "id": "FaXEkjU93bDE"
      }
    },
    {
      "cell_type": "code",
      "source": [
        "# Завантажуємо дані IMDB\n",
        "(x_train, y_train), (x_test, y_test) = imdb.load_data(num_words=max_features)"
      ],
      "metadata": {
        "colab": {
          "base_uri": "https://localhost:8080/"
        },
        "id": "w0vnzZPRdPeN",
        "outputId": "c882fadd-2f65-4075-dbcd-d5ef700b1080"
      },
      "execution_count": null,
      "outputs": [
        {
          "output_type": "stream",
          "name": "stdout",
          "text": [
            "Downloading data from https://storage.googleapis.com/tensorflow/tf-keras-datasets/imdb.npz\n",
            "17464789/17464789 [==============================] - 0s 0us/step\n"
          ]
        }
      ]
    },
    {
      "cell_type": "markdown",
      "source": [
        "**Checking the length of samples.**"
      ],
      "metadata": {
        "id": "m9Oc_2Ng3npC"
      }
    },
    {
      "cell_type": "code",
      "source": [
        "# Перевіряємо довжину виборок\n",
        "print(len(x_train))\n",
        "print(len(x_test))"
      ],
      "metadata": {
        "colab": {
          "base_uri": "https://localhost:8080/"
        },
        "id": "J6Fd0lBedUGt",
        "outputId": "4d35d9da-3079-44b4-a948-9e8a27b437da"
      },
      "execution_count": null,
      "outputs": [
        {
          "output_type": "stream",
          "name": "stdout",
          "text": [
            "25000\n",
            "25000\n"
          ]
        }
      ]
    },
    {
      "cell_type": "markdown",
      "source": [
        "**Padding samples to the same length.**"
      ],
      "metadata": {
        "id": "QmCH-chh3s3q"
      }
    },
    {
      "cell_type": "code",
      "source": [
        "# Приводимо наші зразки до однакової довжини\n",
        "x_train = sequence.pad_sequences(x_train, maxlen=maxlen)\n",
        "x_test = sequence.pad_sequences(x_test, maxlen=maxlen)\n",
        "print(\"Train shape: \", x_train.shape)\n",
        "print(\"Test shape: \", x_test.shape)"
      ],
      "metadata": {
        "colab": {
          "base_uri": "https://localhost:8080/"
        },
        "id": "qK966bZ_dVZF",
        "outputId": "4ebd029b-3bf1-4e42-b63f-6949a549dbb9"
      },
      "execution_count": null,
      "outputs": [
        {
          "output_type": "stream",
          "name": "stdout",
          "text": [
            "Train shape:  (25000, 200)\n",
            "Test shape:  (25000, 200)\n"
          ]
        }
      ]
    },
    {
      "cell_type": "markdown",
      "source": [
        "**Let's see how a random review looks now.**"
      ],
      "metadata": {
        "id": "QUDZSAgb30aK"
      }
    },
    {
      "cell_type": "code",
      "source": [
        "# Подивимось як тепер виглядає рандомний коментар\n",
        "print(\"Review in the training set:\\n\", x_train[1], \"length:\", len(x_train[0]), \"class:\", y_train[0])"
      ],
      "metadata": {
        "colab": {
          "base_uri": "https://localhost:8080/"
        },
        "id": "O4aiy1mWdXoy",
        "outputId": "8bccdf34-326b-418f-815a-d578cb19e7f1"
      },
      "execution_count": null,
      "outputs": [
        {
          "output_type": "stream",
          "name": "stdout",
          "text": [
            "Review in the training set:\n",
            " [    0     0     0     0     0     0     0     0     0     0     0     1\n",
            "   194  1153   194  8255    78   228     5     6  1463  4369  5012   134\n",
            "    26     4   715     8   118  1634    14   394    20    13   119   954\n",
            "   189   102     5   207   110  3103    21    14    69   188     8    30\n",
            "    23     7     4   249   126    93     4   114     9  2300  1523     5\n",
            "   647     4   116     9    35  8163     4   229     9   340  1322     4\n",
            "   118     9     4   130  4901    19     4  1002     5    89    29   952\n",
            "    46    37     4   455     9    45    43    38  1543  1905   398     4\n",
            "  1649    26  6853     5   163    11  3215 10156     4  1153     9   194\n",
            "   775     7  8255 11596   349  2637   148   605 15358  8003    15   123\n",
            "   125    68 23141  6853    15   349   165  4362    98     5     4   228\n",
            "     9    43     2  1157    15   299   120     5   120   174    11   220\n",
            "   175   136    50     9  4373   228  8255     5 25249   656   245  2350\n",
            "     5     4  9837   131   152   491    18     2    32  7464  1212    14\n",
            "     9     6   371    78    22   625    64  1382     9     8   168   145\n",
            "    23     4  1690    15    16     4  1355     5    28     6    52   154\n",
            "   462    33    89    78   285    16   145    95] length: 200 class: 1\n"
          ]
        }
      ]
    },
    {
      "cell_type": "markdown",
      "source": [
        "**The required length has been added in this case. We can also see that Keras has already processed the reviews, so there's no need to convert text into numbers anymore. We can also look at how the same review would have looked before transformation.**"
      ],
      "metadata": {
        "id": "hU-gp8n54QJ5"
      }
    },
    {
      "cell_type": "code",
      "source": [
        "# Потрібна нам довжина в цьому випадку додана.\n",
        "# Бачимо також , що keras вже обробив коментарі, і нам вже не потрібно переводити текст у числа.\n",
        "# Можна ще подивитися, як виглядав би цей же коментар до перетворення"
      ],
      "metadata": {
        "id": "IFz6AmwSdaYB"
      },
      "execution_count": null,
      "outputs": []
    },
    {
      "cell_type": "code",
      "source": [
        "word_index = imdb.get_word_index()\n",
        "def decoded_review(index):\n",
        "    reverse_index = dict([(value,key) for (key,value) in word_index.items()])\n",
        "    review = \" \".join([reverse_index.get(i-3, \"!\") for i in x_train[index]])\n",
        "    print(review)\n",
        "\n",
        "    return review"
      ],
      "metadata": {
        "colab": {
          "base_uri": "https://localhost:8080/"
        },
        "id": "JVtmDA_vdg2Q",
        "outputId": "b07dda24-cbf0-4ed0-a0a7-84abae1a152f"
      },
      "execution_count": null,
      "outputs": [
        {
          "output_type": "stream",
          "name": "stdout",
          "text": [
            "Downloading data from https://storage.googleapis.com/tensorflow/tf-keras-datasets/imdb_word_index.json\n",
            "1641221/1641221 [==============================] - 0s 0us/step\n"
          ]
        }
      ]
    },
    {
      "cell_type": "code",
      "source": [
        "#\n",
        "decoded_review = decoded_review(1)"
      ],
      "metadata": {
        "colab": {
          "base_uri": "https://localhost:8080/"
        },
        "id": "38wn1wfOdkxL",
        "outputId": "479d07b8-5415-430e-eeb3-68217c1d7a0a"
      },
      "execution_count": null,
      "outputs": [
        {
          "output_type": "stream",
          "name": "stdout",
          "text": [
            "! ! ! ! ! ! ! ! ! ! ! ! big hair big boobs bad music and a giant safety pin these are the words to best describe this terrible movie i love cheesy horror movies and i've seen hundreds but this had got to be on of the worst ever made the plot is paper thin and ridiculous the acting is an abomination the script is completely laughable the best is the end showdown with the cop and how he worked out who the killer is it's just so damn terribly written the clothes are sickening and funny in equal measures the hair is big lots of boobs bounce men wear those cut tee shirts that show off their stomachs sickening that men actually wore them and the music is just ! trash that plays over and over again in almost every scene there is trashy music boobs and paramedics taking away bodies and the gym still doesn't close for ! all joking aside this is a truly bad film whose only charm is to look back on the disaster that was the 80's and have a good old laugh at how bad everything was back then\n"
          ]
        }
      ]
    },
    {
      "cell_type": "markdown",
      "source": [
        "**Adding parameters to the model.**"
      ],
      "metadata": {
        "id": "8er9v4Cx4yxt"
      }
    },
    {
      "cell_type": "code",
      "source": [
        "# Додамо параметри для моделі\n",
        "embedding_dims = 64\n",
        "lstm_units = 30"
      ],
      "metadata": {
        "id": "oUyCK0GYdl-T"
      },
      "execution_count": null,
      "outputs": []
    },
    {
      "cell_type": "markdown",
      "source": [
        "**Creating an RNN model and compiling it.**"
      ],
      "metadata": {
        "id": "wPootLqA41y1"
      }
    },
    {
      "cell_type": "code",
      "source": [
        "# Створюємо модель RNN\n",
        "model = Sequential()\n",
        "model.add(Embedding(max_features,\n",
        "                    embedding_dims,\n",
        "                    input_length=maxlen))\n",
        "model.add(Dropout(0.5))\n",
        "model.add(LSTM(lstm_units, return_sequences=True))\n",
        "model.add(Dropout(0.5))\n",
        "model.add(LSTM(lstm_units))\n",
        "model.add(Dropout(0.5))\n",
        "model.add(Dense(1, activation=\"sigmoid\"))\n",
        "\n",
        "# Робимо компіляцію\n",
        "model.compile(loss=\"binary_crossentropy\",\n",
        "              optimizer=\"rmsprop\",\n",
        "              metrics=[\"accuracy\"])"
      ],
      "metadata": {
        "id": "hrzl8uivdugO"
      },
      "execution_count": null,
      "outputs": []
    },
    {
      "cell_type": "markdown",
      "source": [
        "**Training of the RNN model.**"
      ],
      "metadata": {
        "id": "j39faNl75Aec"
      }
    },
    {
      "cell_type": "code",
      "source": [
        "# Тренуємо модель\n",
        "epochs = 5\n",
        "validation_split = 0.2\n",
        "batch_size=128\n",
        "\n",
        "history = model.fit(x_train, y_train, batch_size=batch_size,\n",
        "          epochs=epochs,\n",
        "          validation_split=validation_split)"
      ],
      "metadata": {
        "colab": {
          "base_uri": "https://localhost:8080/"
        },
        "id": "zzejICH4dvmo",
        "outputId": "f66cfb81-b89d-426a-889c-5ef28c9c5824"
      },
      "execution_count": null,
      "outputs": [
        {
          "output_type": "stream",
          "name": "stdout",
          "text": [
            "Epoch 1/5\n",
            "157/157 [==============================] - 64s 381ms/step - loss: 0.5904 - accuracy: 0.6615 - val_loss: 0.5686 - val_accuracy: 0.7692\n",
            "Epoch 2/5\n",
            "157/157 [==============================] - 51s 324ms/step - loss: 0.3616 - accuracy: 0.8510 - val_loss: 0.5631 - val_accuracy: 0.7706\n",
            "Epoch 3/5\n",
            "157/157 [==============================] - 50s 318ms/step - loss: 0.2778 - accuracy: 0.8926 - val_loss: 0.3883 - val_accuracy: 0.8526\n",
            "Epoch 4/5\n",
            "157/157 [==============================] - 51s 323ms/step - loss: 0.2335 - accuracy: 0.9138 - val_loss: 0.3011 - val_accuracy: 0.8738\n",
            "Epoch 5/5\n",
            "157/157 [==============================] - 51s 323ms/step - loss: 0.2006 - accuracy: 0.9292 - val_loss: 0.2880 - val_accuracy: 0.8786\n"
          ]
        }
      ]
    },
    {
      "cell_type": "code",
      "source": [
        "# Fetching the training and validation accuracy history of the model:\n",
        "# Отримуємо історію точності моделі навчання та валідації\n",
        "train_accuracy = history.history[\"accuracy\"]\n",
        "val_accuracy = history.history[\"val_accuracy\"]\n",
        "\n",
        "# Fetching the training and validation loss history:\n",
        "# Отримуємо історію втрат навчання та валідації\n",
        "train_loss = history.history[\"loss\"]\n",
        "val_loss = history.history[\"val_loss\"]\n",
        "\n",
        "# Accuracy plot\n",
        "# Графік для точності\n",
        "plt.plot(train_accuracy, label=\"Train Accuracy\")\n",
        "plt.plot(val_accuracy, label=\"Test Accuracy\")\n",
        "plt.title(\"Training and Test Accuracy\")\n",
        "plt.xlabel(\"Epoch\")\n",
        "plt.ylabel(\"Accuracy\")\n",
        "plt.legend()\n",
        "\n",
        "plt.show()\n",
        "\n",
        "# Loss plot\n",
        "# Графік для втрат\n",
        "plt.plot(train_loss, label=\"Train Loss\")\n",
        "plt.plot(val_loss, label=\"Test Loss\")\n",
        "plt.title(\"Training and Test Loss\")\n",
        "plt.xlabel(\"Epoch\")\n",
        "plt.ylabel(\"Loss\")\n",
        "plt.legend()\n",
        "\n",
        "plt.show()"
      ],
      "metadata": {
        "colab": {
          "base_uri": "https://localhost:8080/",
          "height": 927
        },
        "id": "lMgcQ4I_fzTB",
        "outputId": "c9d15dfb-74e3-45a9-8ca2-0a92eaa9c349"
      },
      "execution_count": null,
      "outputs": [
        {
          "output_type": "display_data",
          "data": {
            "text/plain": [
              "<Figure size 640x480 with 1 Axes>"
            ],
            "image/png": "[encoded data removed]"
          },
          "metadata": {}
        },
        {
          "output_type": "display_data",
          "data": {
            "text/plain": [
              "<Figure size 640x480 with 1 Axes>"
            ],
            "image/png": "[encoded data removed]"
          },
          "metadata": {}
        }
      ]
    },
    {
      "cell_type": "markdown",
      "source": [
        "**Evaluating the RNN model on the test data.**"
      ],
      "metadata": {
        "id": "aHs1e8uo5Tl9"
      }
    },
    {
      "cell_type": "code",
      "source": [
        "# Оцінка моделі на тестових даних\n",
        "val_loss, val_accuracy = model.evaluate(x_test, y_test)\n",
        "print(\"Accuracy on the test data set: {:.2f}%\".format(val_accuracy * 100))\n",
        "print(\"Loss on the test data set: {:.4f}\".format(val_loss))"
      ],
      "metadata": {
        "colab": {
          "base_uri": "https://localhost:8080/"
        },
        "id": "ebROa7dNKUo4",
        "outputId": "07258862-8e2e-4257-f297-75e3dbb8bbb7"
      },
      "execution_count": null,
      "outputs": [
        {
          "output_type": "stream",
          "name": "stdout",
          "text": [
            "782/782 [==============================] - 30s 39ms/step - loss: 0.3067 - accuracy: 0.8716\n",
            "Accuracy on the test data set: 87.16%\n",
            "Loss on the test data set: 0.3067\n"
          ]
        }
      ]
    },
    {
      "cell_type": "markdown",
      "source": [
        "**So, in this case, the metrics are not \"jumping\" and appear quite stable. However, we observe significant losses in both datasets. It is evident that they are decreasing with each epoch, but increasing the number of epochs did not help reduce the losses; on the contrary, overfitting occurred after the 5th epoch.**"
      ],
      "metadata": {
        "id": "MqMCqSPZ5jCN"
      }
    },
    {
      "cell_type": "code",
      "source": [
        "# Отже, в даному випадку, показники не \"скачуть\" і виглядають достатньо стабільними, проте бачимо великі втрати на обох виборках.\n",
        "# Видно, що вони йдуть на спад з кожною епохою, але збільшення кількості епох не допомогло зменшити втрати, навпаки після 5ї йшло перенавчання."
      ],
      "metadata": {
        "id": "lakuLRRehcAh"
      },
      "execution_count": null,
      "outputs": []
    }
  ]
}