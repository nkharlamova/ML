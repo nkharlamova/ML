{
  "nbformat": 4,
  "nbformat_minor": 0,
  "metadata": {
    "colab": {
      "provenance": [],
      "authorship_tag": "ABX9TyP6EqZHuL492NXZaEC6rjsa",
      "include_colab_link": true
    },
    "kernelspec": {
      "name": "python3",
      "display_name": "Python 3"
    },
    "language_info": {
      "name": "python"
    }
  },
  "cells": [
    {
      "cell_type": "markdown",
      "metadata": {
        "id": "view-in-github",
        "colab_type": "text"
      },
      "source": [
        "<a href=\"https://colab.research.google.com/github/nkharlamova/ML/blob/main/!HW_17_text_classification_spaCy.ipynb\" target=\"_parent\"><img src=\"https://colab.research.google.com/assets/colab-badge.svg\" alt=\"Open In Colab\"/></a>"
      ]
    },
    {
      "cell_type": "markdown",
      "source": [
        "**TASK: Perform reviews' classification into positive and negative. Use spaCy.**"
      ],
      "metadata": {
        "id": "-qf-fVog99Yi"
      }
    },
    {
      "cell_type": "markdown",
      "source": [
        "**Dataset: https://www.kaggle.com/lakshmi25npathi/imdb-dataset-of-50k-movie-reviews**"
      ],
      "metadata": {
        "id": "9PsTYXDB-Y2q"
      }
    },
    {
      "cell_type": "code",
      "execution_count": null,
      "metadata": {
        "id": "hpj87nG1F3BS"
      },
      "outputs": [],
      "source": [
        "import pandas as pd\n",
        "import numpy as np\n",
        "import spacy\n",
        "import en_core_web_sm\n",
        "from spacy.lang.en.stop_words import STOP_WORDS\n",
        "import re\n",
        "import string\n",
        "from tqdm import tqdm\n",
        "from scipy.sparse import hstack\n",
        "\n",
        "from sklearn.feature_extraction.text import TfidfVectorizer\n",
        "from sklearn.model_selection import train_test_split, GridSearchCV\n",
        "from sklearn.svm import LinearSVC\n",
        "from sklearn.linear_model import LogisticRegression\n",
        "from sklearn.metrics import classification_report\n",
        "from sklearn.preprocessing import StandardScaler\n",
        "\n",
        "from collections import Counter\n",
        "import matplotlib.pyplot as plt"
      ]
    },
    {
      "cell_type": "code",
      "source": [
        "from google.colab import drive\n",
        "drive.mount('/content/drive')"
      ],
      "metadata": {
        "colab": {
          "base_uri": "https://localhost:8080/"
        },
        "id": "3xwC-Pu0GGLW",
        "outputId": "bca95192-8a0d-4d3f-a6e3-517928263e2f"
      },
      "execution_count": null,
      "outputs": [
        {
          "output_type": "stream",
          "name": "stdout",
          "text": [
            "Mounted at /content/drive\n"
          ]
        }
      ]
    },
    {
      "cell_type": "markdown",
      "source": [
        "**Loading the dataset.**"
      ],
      "metadata": {
        "id": "5xgIgpAIso1V"
      }
    },
    {
      "cell_type": "code",
      "source": [
        "# Завантажимо наш датасет\n",
        "df = pd.read_csv(\"/content/drive/MyDrive/Colab Notebooks/IMDB Dataset.csv\")"
      ],
      "metadata": {
        "id": "GhUF2grAGO11"
      },
      "execution_count": null,
      "outputs": []
    },
    {
      "cell_type": "markdown",
      "source": [
        "**Removing the tags.**"
      ],
      "metadata": {
        "id": "Be4l3yWLs17c"
      }
    },
    {
      "cell_type": "code",
      "source": [
        "# Видалимо теги\n",
        "df[\"review\"] = df[\"review\"].str.replace(\"<br /><br />\", \"\")"
      ],
      "metadata": {
        "id": "g_4yYAfIGP-r"
      },
      "execution_count": null,
      "outputs": []
    },
    {
      "cell_type": "markdown",
      "source": [
        "**Loading the spaCy model.**"
      ],
      "metadata": {
        "id": "NPoPu3nCs6xH"
      }
    },
    {
      "cell_type": "code",
      "source": [
        "# Завантажимо модель spaCy\n",
        "nlp = en_core_web_sm.load()"
      ],
      "metadata": {
        "id": "v7XWST1tGTIV"
      },
      "execution_count": null,
      "outputs": []
    },
    {
      "cell_type": "markdown",
      "source": [
        "**Creating a text preprocessing function.**"
      ],
      "metadata": {
        "id": "HbwklGHktJov"
      }
    },
    {
      "cell_type": "code",
      "source": [
        "# Створюємо функцію попередньої обробки тексту\n",
        "def preprocess_text(text):\n",
        "    text = text.lower()\n",
        "    text = re.sub('\\[.*?\\]', '', text)\n",
        "    text = re.sub('https?://\\S+|www\\.\\S+', '', text)\n",
        "    text = re.sub('<.*?>+', '', text)\n",
        "    text = re.sub('[%s]' % re.escape(string.punctuation), '', text)\n",
        "    text = re.sub('\\n', '', text)\n",
        "    text = re.sub('\\w*\\d\\w*', '', text)\n",
        "\n",
        "    doc = nlp(text)\n",
        "    processed_tokens = []\n",
        "    for token in doc:\n",
        "        if token.is_space:\n",
        "            processed_tokens.append(token.text)\n",
        "        elif not token.is_stop:\n",
        "            processed_tokens.append(f\"{token.lemma_}_{token.pos_}\")\n",
        "\n",
        "    return ' '.join(processed_tokens)"
      ],
      "metadata": {
        "id": "CTEGfRpGGXND"
      },
      "execution_count": null,
      "outputs": []
    },
    {
      "cell_type": "markdown",
      "source": [
        "**For processing control:**"
      ],
      "metadata": {
        "id": "BvW_J1j-tSqm"
      }
    },
    {
      "cell_type": "code",
      "source": [
        "# Для контролю обробки\n",
        "tqdm.pandas()"
      ],
      "metadata": {
        "id": "hezpbQQ2GbjY"
      },
      "execution_count": null,
      "outputs": []
    },
    {
      "cell_type": "markdown",
      "source": [
        "**Text preprocessing.**"
      ],
      "metadata": {
        "id": "sBCQcOJ-ti-s"
      }
    },
    {
      "cell_type": "code",
      "source": [
        "# Робимо попередню обробку текста\n",
        "df[\"processed_review\"] = df[\"review\"].progress_apply(preprocess_text)"
      ],
      "metadata": {
        "colab": {
          "base_uri": "https://localhost:8080/"
        },
        "id": "4TlRL_1HGeaQ",
        "outputId": "fa2fdac5-558c-4ca5-b724-1bad29e8f9a7"
      },
      "execution_count": null,
      "outputs": [
        {
          "output_type": "stream",
          "name": "stderr",
          "text": [
            "100%|██████████| 50000/50000 [39:25<00:00, 21.13it/s]\n"
          ]
        }
      ]
    },
    {
      "cell_type": "markdown",
      "source": [
        "**Let's take a look at the POS distribution after text preprocessing.**"
      ],
      "metadata": {
        "id": "DgKxunB0ttiL"
      }
    },
    {
      "cell_type": "code",
      "source": [
        "# Подивимося на POS розподіл після обробки тексту\n",
        "all_pos = ' '.join(df[\"processed_review\"]).split()\n",
        "all_pos_counts = Counter(all_pos)\n",
        "sorted_all_pos_counts = dict(sorted(all_pos_counts.items(), key=lambda item: item[1], reverse=True))\n",
        "top_20_pos = dict(list(sorted_all_pos_counts.items())[:20])\n",
        "\n",
        "plt.figure(figsize=(10, 6))\n",
        "plt.bar(top_20_pos.keys(), top_20_pos.values(), color=\"skyblue\")\n",
        "plt.title(\"Top 20 POS Distribution\")\n",
        "plt.xlabel(\"POS\")\n",
        "plt.ylabel(\"Frequency\")\n",
        "plt.xticks(rotation=45)\n",
        "\n",
        "plt.show()"
      ],
      "metadata": {
        "colab": {
          "base_uri": "https://localhost:8080/",
          "height": 642
        },
        "id": "2Gvndxq9PsFd",
        "outputId": "20205f14-54fe-49b5-8565-4531c882861d"
      },
      "execution_count": null,
      "outputs": [
        {
          "output_type": "display_data",
          "data": {
            "text/plain": [
              "<Figure size 1000x600 with 1 Axes>"
            ],
            "image/png": "[encoded data removed]"
          },
          "metadata": {}
        }
      ]
    },
    {
      "cell_type": "markdown",
      "source": [
        "**Interestingly, adjectives that would primarily influence classification have the smallest count compared to other parts of speech. Nevertheless, we still see the most important ones: \"good,\" \"bad,\" and \"great.\" It can be added that besides the main keywords \"movie\" and \"film,\" the picture slightly differs from what we saw in the previous assignment without using spaCy, meaning even the detection of key words depends on the type of preprocessing done beforehand.**"
      ],
      "metadata": {
        "id": "jBFDg6zNRAak"
      }
    },
    {
      "cell_type": "code",
      "source": [
        "# Цікаво, що прикметників, які в першу чергу мали б впливати на класфікацію, найменша кількість, в порівнянні з іншими частинами мови.\n",
        "# Але все ж бачимо найважливіші: good, bad та great\n",
        "# Можна додати, що окрім головних ключових слів movie та film, картина трохи відрізняється від тої,\n",
        "# що ми бачили в попередньому ДЗ без використання spaCy, тобто виявлення навіть ключових слів залежить від типу попередньої обробки\n"
      ],
      "metadata": {
        "id": "7pxSNG-xQDuU"
      },
      "execution_count": null,
      "outputs": []
    },
    {
      "cell_type": "markdown",
      "source": [
        "**Converting classes to numbers.**"
      ],
      "metadata": {
        "id": "2XOYhKzfuDiu"
      }
    },
    {
      "cell_type": "code",
      "source": [
        "# Йдемо далі, переводимо класи в числа\n",
        "df[\"sentiment\"] = df[\"sentiment\"].map({\"positive\": 1, \"negative\": 0})"
      ],
      "metadata": {
        "id": "H2ti8CNaRcoE"
      },
      "execution_count": null,
      "outputs": []
    },
    {
      "cell_type": "markdown",
      "source": [
        "**Adding a new feature - text length.**"
      ],
      "metadata": {
        "id": "cn7AFChJuNBG"
      }
    },
    {
      "cell_type": "code",
      "source": [
        "# Додаємо фічу - довжина тексту\n",
        "df[\"text_length\"] = df[\"review\"].apply(lambda x: len(x))"
      ],
      "metadata": {
        "id": "M7U4gDMkRjKH"
      },
      "execution_count": null,
      "outputs": []
    },
    {
      "cell_type": "markdown",
      "source": [
        "**Let's add another feature - the average word length in a string.**"
      ],
      "metadata": {
        "id": "HWg3JqpRuWHv"
      }
    },
    {
      "cell_type": "code",
      "source": [
        "# Додамо ще одну фічу - середню довжину слів у рядку\n",
        "def average_word_length(row):\n",
        "    words = row.split()\n",
        "    word_lengths = [len(word) for word in words]\n",
        "    return np.mean(word_lengths)\n",
        "\n",
        "df[\"average_word_length\"] = df[\"review\"].apply(average_word_length)"
      ],
      "metadata": {
        "id": "63NnRMMoRn3H"
      },
      "execution_count": null,
      "outputs": []
    },
    {
      "cell_type": "markdown",
      "source": [
        "**Let's see what we have got.**"
      ],
      "metadata": {
        "id": "W862WtNSu1J2"
      }
    },
    {
      "cell_type": "code",
      "source": [
        "# Подивимось, що в нас вийшло\n",
        "df.head()"
      ],
      "metadata": {
        "colab": {
          "base_uri": "https://localhost:8080/",
          "height": 206
        },
        "id": "KVw7vcqYRu0S",
        "outputId": "bd38b9db-02cb-43fe-c78f-7c16416dcf56"
      },
      "execution_count": null,
      "outputs": [
        {
          "output_type": "execute_result",
          "data": {
            "text/plain": [
              "                                              review  sentiment  \\\n",
              "0  One of the other reviewers has mentioned that ...          1   \n",
              "1  A wonderful little production. The filming tec...          1   \n",
              "2  I thought this was a wonderful way to spend ti...          1   \n",
              "3  Basically there's a family where a little boy ...          0   \n",
              "4  Petter Mattei's \"Love in the Time of Money\" is...          1   \n",
              "\n",
              "                                    processed_review  text_length  \\\n",
              "0  reviewer_NOUN mention_VERB watch_VERB   oz_NOU...         1725   \n",
              "1  wonderful_ADJ little_ADJ production_NOUN film_...          962   \n",
              "2  think_VERB wonderful_ADJ way_NOUN spend_VERB t...          902   \n",
              "3  basically_ADV s_VERB family_NOUN little_ADJ bo...          712   \n",
              "4  petter_PROPN matteis_PROPN love_NOUN time_NOUN...         1269   \n",
              "\n",
              "   average_word_length  \n",
              "0             4.734219  \n",
              "1             5.173077  \n",
              "2             4.574074  \n",
              "3             4.401515  \n",
              "4             4.720721  "
            ],
            "text/html": [
              "\n",
              "  <div id=\"df-d4ecc27a-9ca1-4b1f-9528-e59749bc786c\" class=\"colab-df-container\">\n",
              "    <div>\n",
              "<style scoped>\n",
              "    .dataframe tbody tr th:only-of-type {\n",
              "        vertical-align: middle;\n",
              "    }\n",
              "\n",
              "    .dataframe tbody tr th {\n",
              "        vertical-align: top;\n",
              "    }\n",
              "\n",
              "    .dataframe thead th {\n",
              "        text-align: right;\n",
              "    }\n",
              "</style>\n",
              "<table border=\"1\" class=\"dataframe\">\n",
              "  <thead>\n",
              "    <tr style=\"text-align: right;\">\n",
              "      <th></th>\n",
              "      <th>review</th>\n",
              "      <th>sentiment</th>\n",
              "      <th>processed_review</th>\n",
              "      <th>text_length</th>\n",
              "      <th>average_word_length</th>\n",
              "    </tr>\n",
              "  </thead>\n",
              "  <tbody>\n",
              "    <tr>\n",
              "      <th>0</th>\n",
              "      <td>One of the other reviewers has mentioned that ...</td>\n",
              "      <td>1</td>\n",
              "      <td>reviewer_NOUN mention_VERB watch_VERB   oz_NOU...</td>\n",
              "      <td>1725</td>\n",
              "      <td>4.734219</td>\n",
              "    </tr>\n",
              "    <tr>\n",
              "      <th>1</th>\n",
              "      <td>A wonderful little production. The filming tec...</td>\n",
              "      <td>1</td>\n",
              "      <td>wonderful_ADJ little_ADJ production_NOUN film_...</td>\n",
              "      <td>962</td>\n",
              "      <td>5.173077</td>\n",
              "    </tr>\n",
              "    <tr>\n",
              "      <th>2</th>\n",
              "      <td>I thought this was a wonderful way to spend ti...</td>\n",
              "      <td>1</td>\n",
              "      <td>think_VERB wonderful_ADJ way_NOUN spend_VERB t...</td>\n",
              "      <td>902</td>\n",
              "      <td>4.574074</td>\n",
              "    </tr>\n",
              "    <tr>\n",
              "      <th>3</th>\n",
              "      <td>Basically there's a family where a little boy ...</td>\n",
              "      <td>0</td>\n",
              "      <td>basically_ADV s_VERB family_NOUN little_ADJ bo...</td>\n",
              "      <td>712</td>\n",
              "      <td>4.401515</td>\n",
              "    </tr>\n",
              "    <tr>\n",
              "      <th>4</th>\n",
              "      <td>Petter Mattei's \"Love in the Time of Money\" is...</td>\n",
              "      <td>1</td>\n",
              "      <td>petter_PROPN matteis_PROPN love_NOUN time_NOUN...</td>\n",
              "      <td>1269</td>\n",
              "      <td>4.720721</td>\n",
              "    </tr>\n",
              "  </tbody>\n",
              "</table>\n",
              "</div>\n",
              "    <div class=\"colab-df-buttons\">\n",
              "\n",
              "  <div class=\"colab-df-container\">\n",
              "    <button class=\"colab-df-convert\" onclick=\"convertToInteractive('df-d4ecc27a-9ca1-4b1f-9528-e59749bc786c')\"\n",
              "            title=\"Convert this dataframe to an interactive table.\"\n",
              "            style=\"display:none;\">\n",
              "\n",
              "  <svg xmlns=\"http://www.w3.org/2000/svg\" height=\"24px\" viewBox=\"0 -960 960 960\">\n",
              "    <path d=\"M120-120v-720h720v720H120Zm60-500h600v-160H180v160Zm220 220h160v-160H400v160Zm0 220h160v-160H400v160ZM180-400h160v-160H180v160Zm440 0h160v-160H620v160ZM180-180h160v-160H180v160Zm440 0h160v-160H620v160Z\"/>\n",
              "  </svg>\n",
              "    </button>\n",
              "\n",
              "  <style>\n",
              "    .colab-df-container {\n",
              "      display:flex;\n",
              "      gap: 12px;\n",
              "    }\n",
              "\n",
              "    .colab-df-convert {\n",
              "      background-color: #E8F0FE;\n",
              "      border: none;\n",
              "      border-radius: 50%;\n",
              "      cursor: pointer;\n",
              "      display: none;\n",
              "      fill: #1967D2;\n",
              "      height: 32px;\n",
              "      padding: 0 0 0 0;\n",
              "      width: 32px;\n",
              "    }\n",
              "\n",
              "    .colab-df-convert:hover {\n",
              "      background-color: #E2EBFA;\n",
              "      box-shadow: 0px 1px 2px rgba(60, 64, 67, 0.3), 0px 1px 3px 1px rgba(60, 64, 67, 0.15);\n",
              "      fill: #174EA6;\n",
              "    }\n",
              "\n",
              "    .colab-df-buttons div {\n",
              "      margin-bottom: 4px;\n",
              "    }\n",
              "\n",
              "    [theme=dark] .colab-df-convert {\n",
              "      background-color: #3B4455;\n",
              "      fill: #D2E3FC;\n",
              "    }\n",
              "\n",
              "    [theme=dark] .colab-df-convert:hover {\n",
              "      background-color: #434B5C;\n",
              "      box-shadow: 0px 1px 3px 1px rgba(0, 0, 0, 0.15);\n",
              "      filter: drop-shadow(0px 1px 2px rgba(0, 0, 0, 0.3));\n",
              "      fill: #FFFFFF;\n",
              "    }\n",
              "  </style>\n",
              "\n",
              "    <script>\n",
              "      const buttonEl =\n",
              "        document.querySelector('#df-d4ecc27a-9ca1-4b1f-9528-e59749bc786c button.colab-df-convert');\n",
              "      buttonEl.style.display =\n",
              "        google.colab.kernel.accessAllowed ? 'block' : 'none';\n",
              "\n",
              "      async function convertToInteractive(key) {\n",
              "        const element = document.querySelector('#df-d4ecc27a-9ca1-4b1f-9528-e59749bc786c');\n",
              "        const dataTable =\n",
              "          await google.colab.kernel.invokeFunction('convertToInteractive',\n",
              "                                                    [key], {});\n",
              "        if (!dataTable) return;\n",
              "\n",
              "        const docLinkHtml = 'Like what you see? Visit the ' +\n",
              "          '<a target=\"_blank\" href=https://colab.research.google.com/notebooks/data_table.ipynb>data table notebook</a>'\n",
              "          + ' to learn more about interactive tables.';\n",
              "        element.innerHTML = '';\n",
              "        dataTable['output_type'] = 'display_data';\n",
              "        await google.colab.output.renderOutput(dataTable, element);\n",
              "        const docLink = document.createElement('div');\n",
              "        docLink.innerHTML = docLinkHtml;\n",
              "        element.appendChild(docLink);\n",
              "      }\n",
              "    </script>\n",
              "  </div>\n",
              "\n",
              "\n",
              "<div id=\"df-87df1546-9ba1-49b8-ac3a-6fd66f7b437e\">\n",
              "  <button class=\"colab-df-quickchart\" onclick=\"quickchart('df-87df1546-9ba1-49b8-ac3a-6fd66f7b437e')\"\n",
              "            title=\"Suggest charts\"\n",
              "            style=\"display:none;\">\n",
              "\n",
              "<svg xmlns=\"http://www.w3.org/2000/svg\" height=\"24px\"viewBox=\"0 0 24 24\"\n",
              "     width=\"24px\">\n",
              "    <g>\n",
              "        <path d=\"M19 3H5c-1.1 0-2 .9-2 2v14c0 1.1.9 2 2 2h14c1.1 0 2-.9 2-2V5c0-1.1-.9-2-2-2zM9 17H7v-7h2v7zm4 0h-2V7h2v10zm4 0h-2v-4h2v4z\"/>\n",
              "    </g>\n",
              "</svg>\n",
              "  </button>\n",
              "\n",
              "<style>\n",
              "  .colab-df-quickchart {\n",
              "      --bg-color: #E8F0FE;\n",
              "      --fill-color: #1967D2;\n",
              "      --hover-bg-color: #E2EBFA;\n",
              "      --hover-fill-color: #174EA6;\n",
              "      --disabled-fill-color: #AAA;\n",
              "      --disabled-bg-color: #DDD;\n",
              "  }\n",
              "\n",
              "  [theme=dark] .colab-df-quickchart {\n",
              "      --bg-color: #3B4455;\n",
              "      --fill-color: #D2E3FC;\n",
              "      --hover-bg-color: #434B5C;\n",
              "      --hover-fill-color: #FFFFFF;\n",
              "      --disabled-bg-color: #3B4455;\n",
              "      --disabled-fill-color: #666;\n",
              "  }\n",
              "\n",
              "  .colab-df-quickchart {\n",
              "    background-color: var(--bg-color);\n",
              "    border: none;\n",
              "    border-radius: 50%;\n",
              "    cursor: pointer;\n",
              "    display: none;\n",
              "    fill: var(--fill-color);\n",
              "    height: 32px;\n",
              "    padding: 0;\n",
              "    width: 32px;\n",
              "  }\n",
              "\n",
              "  .colab-df-quickchart:hover {\n",
              "    background-color: var(--hover-bg-color);\n",
              "    box-shadow: 0 1px 2px rgba(60, 64, 67, 0.3), 0 1px 3px 1px rgba(60, 64, 67, 0.15);\n",
              "    fill: var(--button-hover-fill-color);\n",
              "  }\n",
              "\n",
              "  .colab-df-quickchart-complete:disabled,\n",
              "  .colab-df-quickchart-complete:disabled:hover {\n",
              "    background-color: var(--disabled-bg-color);\n",
              "    fill: var(--disabled-fill-color);\n",
              "    box-shadow: none;\n",
              "  }\n",
              "\n",
              "  .colab-df-spinner {\n",
              "    border: 2px solid var(--fill-color);\n",
              "    border-color: transparent;\n",
              "    border-bottom-color: var(--fill-color);\n",
              "    animation:\n",
              "      spin 1s steps(1) infinite;\n",
              "  }\n",
              "\n",
              "  @keyframes spin {\n",
              "    0% {\n",
              "      border-color: transparent;\n",
              "      border-bottom-color: var(--fill-color);\n",
              "      border-left-color: var(--fill-color);\n",
              "    }\n",
              "    20% {\n",
              "      border-color: transparent;\n",
              "      border-left-color: var(--fill-color);\n",
              "      border-top-color: var(--fill-color);\n",
              "    }\n",
              "    30% {\n",
              "      border-color: transparent;\n",
              "      border-left-color: var(--fill-color);\n",
              "      border-top-color: var(--fill-color);\n",
              "      border-right-color: var(--fill-color);\n",
              "    }\n",
              "    40% {\n",
              "      border-color: transparent;\n",
              "      border-right-color: var(--fill-color);\n",
              "      border-top-color: var(--fill-color);\n",
              "    }\n",
              "    60% {\n",
              "      border-color: transparent;\n",
              "      border-right-color: var(--fill-color);\n",
              "    }\n",
              "    80% {\n",
              "      border-color: transparent;\n",
              "      border-right-color: var(--fill-color);\n",
              "      border-bottom-color: var(--fill-color);\n",
              "    }\n",
              "    90% {\n",
              "      border-color: transparent;\n",
              "      border-bottom-color: var(--fill-color);\n",
              "    }\n",
              "  }\n",
              "</style>\n",
              "\n",
              "  <script>\n",
              "    async function quickchart(key) {\n",
              "      const quickchartButtonEl =\n",
              "        document.querySelector('#' + key + ' button');\n",
              "      quickchartButtonEl.disabled = true;  // To prevent multiple clicks.\n",
              "      quickchartButtonEl.classList.add('colab-df-spinner');\n",
              "      try {\n",
              "        const charts = await google.colab.kernel.invokeFunction(\n",
              "            'suggestCharts', [key], {});\n",
              "      } catch (error) {\n",
              "        console.error('Error during call to suggestCharts:', error);\n",
              "      }\n",
              "      quickchartButtonEl.classList.remove('colab-df-spinner');\n",
              "      quickchartButtonEl.classList.add('colab-df-quickchart-complete');\n",
              "    }\n",
              "    (() => {\n",
              "      let quickchartButtonEl =\n",
              "        document.querySelector('#df-87df1546-9ba1-49b8-ac3a-6fd66f7b437e button');\n",
              "      quickchartButtonEl.style.display =\n",
              "        google.colab.kernel.accessAllowed ? 'block' : 'none';\n",
              "    })();\n",
              "  </script>\n",
              "</div>\n",
              "    </div>\n",
              "  </div>\n"
            ],
            "application/vnd.google.colaboratory.intrinsic+json": {
              "type": "dataframe",
              "variable_name": "df",
              "summary": "{\n  \"name\": \"df\",\n  \"rows\": 50000,\n  \"fields\": [\n    {\n      \"column\": \"review\",\n      \"properties\": {\n        \"dtype\": \"string\",\n        \"num_unique_values\": 49581,\n        \"samples\": [\n          \"Poorly done political actioner. Badly photographed, acted, and directed. Every single scene is underlighted, including those very few that are shot during the daytime. It doesn't matter what the location is. At an important conference in the White House, no lights are on, and the only available lighting is a gloomy blue that is filtered through a few windows. The primier of China conducts an earth-shattering phone conversation under conditions of such intense chiaroscuro that he should be contemplating a bust of Homer in a Rembrandt painting. Honest. It's as if he had a tiny spotlight on his face and was otherwise in total darkness. The slow motion deaths are by now obligatory in any ill-thought-out movie.Roy Scheider and Maria Conchita Alonzo do well by their roles, but Scheider is rarely on screen. The other performances are dismissable. There is a pretty Oriental woman in a short tight skirt who totes a gun and is right out of a Bond movie who's accent suggests a childhood spent in Basset, Nebraska, and who should have remained the model she probably started out as. Whoever plays the surviving Secret Service agent aboard the cruise ship was probably picked for the part because he looked most like Johnny Depp, not because of any display of talent. The Chinese villains, representing both Taiwan and mainland China, hiss and grin as they threaten the heroes. The script is pretty awful, recycled from other, better films. There is a lot of shooting aboard the ship and practically everyone winds up mincemeat. Two thirds of the way through, the ship explodes into the expected series of fireballs. Then the movie splits into two related parts. Part one, another shootout, this time in a waterfront warehouse. Part two, an exchange between the Vice President, now acting president, and the oily Chinese premiere, lifted out of both \\\"Dr. Strangelove\\\" and \\\"Fail Safe.\\\" We unwittingly launch our missiles. They launch theirs in retaliation. We cannot convince them that our launch was accidental, even though we offer to help them destroy our own missiles. There is even the George C. Scott/ Walter Matthau general who argues that their \\\"nucular\\\" armory can't match ours so we should hit them with everything we've got. More fireballs. The end comes none too soon.\",\n          \"In Sri Lanka, a country divided by religion and language, the civil war between the pro-Sinhalese government and the Liberation Tigers of Tamil Eelam (LTTE), a separatist organization, has claimed an estimated 68,000 lives since 1983. Human rights groups have said that, as a result of the war, more than one million people have been displaced, homeless or living in camps. The impact on children and families caught in the conflict is sensitively dramatized by acclaimed Tamil director Mani Ratnam in his 2002 film A Peck on the Cheek, winner of several awards at the National Film Awards in India. While the civil war is merely a backdrop for the story of a young girl's voyage of discovery, the human cost of war is made quite clear and Ratnam gives the fighting a universal context, pointing the finger at global arms traffickers as the source of wrongdoing.Beautifully photographed in Southern India by cinematographer Ravi K Chandran in a setting mirroring the terrain of Sri Lanka, the film tells a moving story about an adopted 9-year old girl who sets out to find her real mother in the middle of the fighting in Sri Lanka. Played with deep feeling and expressiveness by P.S. Keerthana in a memorable performance, Amudha is brought up by a loving middle class family with two younger brothers after her natural parents Shyama (Nandita Das) and Dileepan (J.D. Chakravarthi) were forced to flee when the fighting broke out, leaving her in a Red Cross camp. In a loving flashback, we see Amudha's adoptive parents, father Thiru (Madhavan) a prominent Tamil writer, and mother Indra (Simran) a TV personality, marry to facilitate their adoption of the darker-skinned little girl.Young Amudha has no idea that she is adopted until it is sprung upon her abruptly on her ninth birthday, according to the parents' prior agreement. While she is playing, Thiru tells her almost in a matter of fact tone that \\\"you are not our daughter\\\" and the response is predictable. Distraught, she questions who her father was, what her mother's name was, why she gave her up, and so forth but few answers are forthcoming. Amudha runs away several times until her parents agree to go to Sri Lanka to help her find her true mother, now a fighter for the Tamil separatists. The family's immersion in the reality of the civil war leads to some traumatic moments and difficult decisions, handled mostly with skill by Ratnam, though a sequence where the family was caught in a crossfire felt amateurish.A Peck on the Cheek is of course a Bollywood-style film and that means tons of music and melodrama. The melodrama did not get in the way because of the strong performances by the lead actors; however, I found the musical dramatizations of songs by A. R. Rahman counter to the mood of the film with their slick, high production techniques and fast-paced music video-style editing. Yet the compelling nature of the story and the honesty in which it is told transcend the film's limitations. Tamil cinema has been criticized by many, even within the country as being too clich\\u00e9d and commercial, yet A Peck on the Cheek is both a film of entertainment and one that tackles serious issues. That it successfully straddles the line between art and commerce is not a rejection but a tribute.\",\n          \"FUTZ is the only show preserved from the experimental theatre movement in New York in the 1960s (the origins of Off Off Broadway). Though it's not for everyone, it is a genuinely brilliant, darkly funny, even more often deeply disturbing tale about love, sex, personal liberty, and revenge, a serious morality tale even more relevant now in a time when Congress wants to outlaw gay marriage by trashing our Constitution. The story is not about being gay, though -- it's about love and sex that don't conform to social norms and therefore must be removed through violence and hate. On the surface, it tells the story of a man who falls in love with a pig, but like any great fable, it's not really about animals, it's about something bigger -- stifling conformity in America.The stage version won international acclaim in its original production, it toured the U.S. and Europe, and with others of its kind, influenced almost all theatre that came after it. Luckily, we have preserved here the show pretty much as it was originally conceived, with the original cast and original director, Tom O'Horgan (who also directed HAIR and Jesus Christ Superstar on Broadway).This is not a mainstream, easy-to-take, studio film -- this is an aggressive, unsettling, glorious, deeply emotional, wildly imaginative piece of storytelling that you'll never forget. And it just might change the way you see the world...\"\n        ],\n        \"semantic_type\": \"\",\n        \"description\": \"\"\n      }\n    },\n    {\n      \"column\": \"sentiment\",\n      \"properties\": {\n        \"dtype\": \"number\",\n        \"std\": 0,\n        \"min\": 0,\n        \"max\": 1,\n        \"num_unique_values\": 2,\n        \"samples\": [\n          0,\n          1\n        ],\n        \"semantic_type\": \"\",\n        \"description\": \"\"\n      }\n    },\n    {\n      \"column\": \"processed_review\",\n      \"properties\": {\n        \"dtype\": \"string\",\n        \"num_unique_values\": 49577,\n        \"samples\": [\n          \"sit_VERB enjoyable_ADJ fast_ADV pace_VERB   min_NOUN rollroll_NOUN country_NOUN boy_NOUN mat_PROPN toby_PROPN malone_PROPN dream_NOUN sport_NOUN star_NOUN mat_NOUN travel_VERB city_NOUN pick_VERB cousin_NOUN george_PROPN damien_PROPN robertson_PROPN plan_NOUN george_PROPN involve_VERB gangster_NOUN tiny_ADJ john_PROPN batchelor_PROPN make_VERB delivery_NOUN needless_ADJ mat_NOUN get_AUX drag_VERB george_NOUN world_NOUN think_VERB great_ADJ mat_PROPN teaches_AUX george_VERB moral_NOUN respect_NOUN george_PROPN teach_VERB mat_PROPN relax_VERB enjoy_VERB life_NOUN little_ADJ toby_NOUN damien_PROPN cast_VERB outstanding_ADJ jobevery_NOUN character_NOUN movie_NOUN compliment_VERB cop_NOUN great_ADJ david_PROPN ngoombujarra_PROPN bring_VERB great_ADJ comic_ADJ relief_NOUN movie_NOUN tiny_NOUN play_VERB likable_ADJ gangster_NOUN remind_VERB favourite_ADJ character_NOUN pando_VERB handsone_NOUN thing_NOUN like_VERB roll_NOUN showcase_VERB city_NOUN grow_VERB live_VERB   year_NOUN perth_NOUN fremantle_VERB good_ADJ sight_NOUN landmark_NOUN grow_VERB especially_ADV old_ADJ ferris_PROPN wheelthis_PROPN rock_NOUN n_CCONJ roll_NOUN\",\n          \"year_NOUN ago_ADV year_NOUN old_ADJ boy_NOUN michael_PROPN hawthorne_PROPN witness_VERB father_NOUN kill_VERB mother_NOUN axe_NOUN road_NOUN commit_VERB suicide_NOUN later_ADV present_ADJ day_NOUN michael_PROPN gordon_PROPN currie_PROPN invite_VERB girlfriend_NOUN peg_NOUN stacy_NOUN grant_NOUN good_ADJ friend_NOUN chris_PROPN myc_PROPN agnew_PROPN jennifer_PROPN emmanuelle_PROPN vaugier_PROPN lisa_PROPN ann_PROPN kelly_PROPN benson_PROPN ned_PROPN brendon_PROPN beiser_PROPN mitch_VERB maldive_ADJ phillip_NOUN rhy_NOUN trish_ADJ rachel_PROPN hayward_PROPN spend_VERB halloween_NOUN country_NOUN grandparent_NOUN farm_NOUN ask_VERB friend_NOUN wear_VERB costume_NOUN represent_VERB great_ADJ innermost_ADJ fear_NOUN indian_ADJ friend_NOUN crow_PROPN byron_PROPN chief_ADJ moon_NOUN perform_VERB ancient_ADJ indian_ADJ celebration_NOUN carve_VERB wooden_ADJ dummy_ADJ morty_NOUN jon_PROPN fedele_PROPN eliminate_VERB fear_NOUN forever_ADV great_ADJ fear_NOUN michael_PROPN serial_ADJ killer_NOUN like_ADP father_NOUN go_VERB wrong_ADJ morty_NOUN turn_VERB father_NOUN kill_VERB friendsthe_PRON fear_NOUN resurrection_NOUN disappointing_ADJ pointless_ADJ slash_NOUN movie_NOUN use_VERB interesting_ADJ concept_NOUN eliminate_VERB great_ADJ innermost_ADJ fear_NOUN friend_NOUN grow_VERB messy_ADJ screenplay_NOUN clich\\u00e9s_NOUN exaggerated_ADJ performance_NOUN like_ADP example_NOUN ms_ADJ betsy_ADJ palmer_NOUN weak_ADJ general_ADJ acting_NOUN good_ADJ unfortunately_ADV explanation_NOUN dummy_NOUN bring_VERB live_VERB spite_NOUN surround_VERB close_ADJ friend_NOUN group_NOUN feel_VERB pain_NOUN sorrow_NOUN die_VERB lowpace_NOUN minute_NOUN build_VERB well_ADV dramatic_ADJ situation_NOUN end_NOUN michael_PROPN show_VERB charm_NOUN father_NOUN interested_ADJ notice_VERB story_NOUN know_VERB previous_ADJ reference_NOUN edit_VERB dvd_NOUN release_VERB brazil_PROPN   minute_NOUN run_VERB time_NOUN special_ADJ effect_NOUN reasonable_ADJ bmovie_NOUN vote_NOUN fourtitle_ADJ brazil_PROPN fear_VERB   uma_PROPN noite_PROPN de_PROPN halloween_PROPN fear_VERB   night_NOUN halloween_NOUN\"\n        ],\n        \"semantic_type\": \"\",\n        \"description\": \"\"\n      }\n    },\n    {\n      \"column\": \"text_length\",\n      \"properties\": {\n        \"dtype\": \"number\",\n        \"std\": 971,\n        \"min\": 32,\n        \"max\": 13584,\n        \"num_unique_values\": 4699,\n        \"samples\": [\n          211,\n          818\n        ],\n        \"semantic_type\": \"\",\n        \"description\": \"\"\n      }\n    },\n    {\n      \"column\": \"average_word_length\",\n      \"properties\": {\n        \"dtype\": \"number\",\n        \"std\": 0.3456877591924827,\n        \"min\": 1.239864864864865,\n        \"max\": 13.53191489361702,\n        \"num_unique_values\": 24649,\n        \"samples\": [\n          4.96271186440678,\n          4.803986710963455\n        ],\n        \"semantic_type\": \"\",\n        \"description\": \"\"\n      }\n    }\n  ]\n}"
            }
          },
          "metadata": {},
          "execution_count": 19
        }
      ]
    },
    {
      "cell_type": "markdown",
      "source": [
        "**Splitting the dataset into features and target variables.**"
      ],
      "metadata": {
        "id": "8up9VAuYu_oW"
      }
    },
    {
      "cell_type": "code",
      "source": [
        "# Розділяємо датасет на ознаки та цільову змінну\n",
        "X = df[[\"processed_review\", \"text_length\", \"average_word_length\"]]\n",
        "y = df[\"sentiment\"]"
      ],
      "metadata": {
        "id": "4wm6mpEzSBED"
      },
      "execution_count": null,
      "outputs": []
    },
    {
      "cell_type": "markdown",
      "source": [
        "**Scaling of the numerical features.**"
      ],
      "metadata": {
        "id": "Lztm-qfwvB_u"
      }
    },
    {
      "cell_type": "code",
      "source": [
        "# Застосовуємо скалер до числових ознак\n",
        "scaler = StandardScaler()\n",
        "X_scaled = X.copy()\n",
        "columns_to_scale = [\"text_length\", \"average_word_length\"]\n",
        "X_scaled.loc[:, columns_to_scale] = scaler.fit_transform(X_scaled[columns_to_scale])"
      ],
      "metadata": {
        "id": "gQNkl0G2SHql"
      },
      "execution_count": null,
      "outputs": []
    },
    {
      "cell_type": "markdown",
      "source": [
        "**Splitting the dataset into training, validation, and test samples.**"
      ],
      "metadata": {
        "id": "YYISNHyIvGz-"
      }
    },
    {
      "cell_type": "code",
      "source": [
        "# Розділяємо датасет на тренувальну, тестову та валідаційну частини\n",
        "X_train, X_test, y_train, y_test = train_test_split(X_scaled, y, test_size=0.3, random_state=42)\n",
        "X_val, X_test, y_val, y_test = train_test_split(X_test, y_test, test_size=0.5, random_state=42)"
      ],
      "metadata": {
        "id": "JFKgU4LGSLD5"
      },
      "execution_count": null,
      "outputs": []
    },
    {
      "cell_type": "markdown",
      "source": [
        "**Vectorization of the textual variable.**"
      ],
      "metadata": {
        "id": "jMk7SGU0vOjC"
      }
    },
    {
      "cell_type": "code",
      "source": [
        "# Робимо векторизацію текстової змінної\n",
        "vectorizer = TfidfVectorizer(max_features=10000)\n",
        "X_train_text = vectorizer.fit_transform(X_train[\"processed_review\"])\n",
        "X_test_text = vectorizer.transform(X_test[\"processed_review\"])\n",
        "X_val_text = vectorizer.transform(X_val[\"processed_review\"])"
      ],
      "metadata": {
        "id": "iZGguEIsSOGV"
      },
      "execution_count": null,
      "outputs": []
    },
    {
      "cell_type": "markdown",
      "source": [
        "**Combining textual and numerical features across all samples.**"
      ],
      "metadata": {
        "id": "Klxyq1FcvixP"
      }
    },
    {
      "cell_type": "code",
      "source": [
        "# З'єднуємо текстову та числові ознаки на всих наборах даних\n",
        "X_train_combined = hstack((X_train_text, X_train[[\"text_length\"]].values, X_train[[\"average_word_length\"]].values))\n",
        "X_test_combined = hstack((X_test_text, X_test[[\"text_length\"]].values, X_test[[\"average_word_length\"]].values))\n",
        "X_val_combined = hstack((X_val_text, X_val[[\"text_length\"]].values, X_val[[\"average_word_length\"]].values))"
      ],
      "metadata": {
        "id": "bBUedKXYSSVT"
      },
      "execution_count": null,
      "outputs": []
    },
    {
      "cell_type": "markdown",
      "source": [
        "**Let's try the Linear SVM model.**"
      ],
      "metadata": {
        "id": "BD4jxe6xvtJE"
      }
    },
    {
      "cell_type": "code",
      "source": [
        "# Спробуємо модель Linear SVM\n",
        "svm_model = LinearSVC(max_iter=10000)\n",
        "svm_model.fit(X_train_combined, y_train)"
      ],
      "metadata": {
        "colab": {
          "base_uri": "https://localhost:8080/",
          "height": 75
        },
        "id": "J_6VY_18UZ45",
        "outputId": "f42d0d43-761e-4366-d780-5f696651fbfc"
      },
      "execution_count": null,
      "outputs": [
        {
          "output_type": "execute_result",
          "data": {
            "text/plain": [
              "LinearSVC(max_iter=10000)"
            ],
            "text/html": [
              "<style>#sk-container-id-2 {color: black;background-color: white;}#sk-container-id-2 pre{padding: 0;}#sk-container-id-2 div.sk-toggleable {background-color: white;}#sk-container-id-2 label.sk-toggleable__label {cursor: pointer;display: block;width: 100%;margin-bottom: 0;padding: 0.3em;box-sizing: border-box;text-align: center;}#sk-container-id-2 label.sk-toggleable__label-arrow:before {content: \"▸\";float: left;margin-right: 0.25em;color: #696969;}#sk-container-id-2 label.sk-toggleable__label-arrow:hover:before {color: black;}#sk-container-id-2 div.sk-estimator:hover label.sk-toggleable__label-arrow:before {color: black;}#sk-container-id-2 div.sk-toggleable__content {max-height: 0;max-width: 0;overflow: hidden;text-align: left;background-color: #f0f8ff;}#sk-container-id-2 div.sk-toggleable__content pre {margin: 0.2em;color: black;border-radius: 0.25em;background-color: #f0f8ff;}#sk-container-id-2 input.sk-toggleable__control:checked~div.sk-toggleable__content {max-height: 200px;max-width: 100%;overflow: auto;}#sk-container-id-2 input.sk-toggleable__control:checked~label.sk-toggleable__label-arrow:before {content: \"▾\";}#sk-container-id-2 div.sk-estimator input.sk-toggleable__control:checked~label.sk-toggleable__label {background-color: #d4ebff;}#sk-container-id-2 div.sk-label input.sk-toggleable__control:checked~label.sk-toggleable__label {background-color: #d4ebff;}#sk-container-id-2 input.sk-hidden--visually {border: 0;clip: rect(1px 1px 1px 1px);clip: rect(1px, 1px, 1px, 1px);height: 1px;margin: -1px;overflow: hidden;padding: 0;position: absolute;width: 1px;}#sk-container-id-2 div.sk-estimator {font-family: monospace;background-color: #f0f8ff;border: 1px dotted black;border-radius: 0.25em;box-sizing: border-box;margin-bottom: 0.5em;}#sk-container-id-2 div.sk-estimator:hover {background-color: #d4ebff;}#sk-container-id-2 div.sk-parallel-item::after {content: \"\";width: 100%;border-bottom: 1px solid gray;flex-grow: 1;}#sk-container-id-2 div.sk-label:hover label.sk-toggleable__label {background-color: #d4ebff;}#sk-container-id-2 div.sk-serial::before {content: \"\";position: absolute;border-left: 1px solid gray;box-sizing: border-box;top: 0;bottom: 0;left: 50%;z-index: 0;}#sk-container-id-2 div.sk-serial {display: flex;flex-direction: column;align-items: center;background-color: white;padding-right: 0.2em;padding-left: 0.2em;position: relative;}#sk-container-id-2 div.sk-item {position: relative;z-index: 1;}#sk-container-id-2 div.sk-parallel {display: flex;align-items: stretch;justify-content: center;background-color: white;position: relative;}#sk-container-id-2 div.sk-item::before, #sk-container-id-2 div.sk-parallel-item::before {content: \"\";position: absolute;border-left: 1px solid gray;box-sizing: border-box;top: 0;bottom: 0;left: 50%;z-index: -1;}#sk-container-id-2 div.sk-parallel-item {display: flex;flex-direction: column;z-index: 1;position: relative;background-color: white;}#sk-container-id-2 div.sk-parallel-item:first-child::after {align-self: flex-end;width: 50%;}#sk-container-id-2 div.sk-parallel-item:last-child::after {align-self: flex-start;width: 50%;}#sk-container-id-2 div.sk-parallel-item:only-child::after {width: 0;}#sk-container-id-2 div.sk-dashed-wrapped {border: 1px dashed gray;margin: 0 0.4em 0.5em 0.4em;box-sizing: border-box;padding-bottom: 0.4em;background-color: white;}#sk-container-id-2 div.sk-label label {font-family: monospace;font-weight: bold;display: inline-block;line-height: 1.2em;}#sk-container-id-2 div.sk-label-container {text-align: center;}#sk-container-id-2 div.sk-container {/* jupyter's `normalize.less` sets `[hidden] { display: none; }` but bootstrap.min.css set `[hidden] { display: none !important; }` so we also need the `!important` here to be able to override the default hidden behavior on the sphinx rendered scikit-learn.org. See: https://github.com/scikit-learn/scikit-learn/issues/21755 */display: inline-block !important;position: relative;}#sk-container-id-2 div.sk-text-repr-fallback {display: none;}</style><div id=\"sk-container-id-2\" class=\"sk-top-container\"><div class=\"sk-text-repr-fallback\"><pre>LinearSVC(max_iter=10000)</pre><b>In a Jupyter environment, please rerun this cell to show the HTML representation or trust the notebook. <br />On GitHub, the HTML representation is unable to render, please try loading this page with nbviewer.org.</b></div><div class=\"sk-container\" hidden><div class=\"sk-item\"><div class=\"sk-estimator sk-toggleable\"><input class=\"sk-toggleable__control sk-hidden--visually\" id=\"sk-estimator-id-2\" type=\"checkbox\" checked><label for=\"sk-estimator-id-2\" class=\"sk-toggleable__label sk-toggleable__label-arrow\">LinearSVC</label><div class=\"sk-toggleable__content\"><pre>LinearSVC(max_iter=10000)</pre></div></div></div></div></div>"
            ]
          },
          "metadata": {},
          "execution_count": 26
        }
      ]
    },
    {
      "cell_type": "markdown",
      "source": [
        "**Calculating the evaluation of the LinearSVC model on the training and test samples.**"
      ],
      "metadata": {
        "id": "Ax6wKmHRv4-a"
      }
    },
    {
      "cell_type": "code",
      "source": [
        "# Розраховуємо оцінку на тренувальній та тестовій вибірці:\n",
        "train_score_svm = svm_model.score(X_train_combined, y_train)\n",
        "test_score_svm = svm_model.score(X_test_combined, y_test)\n",
        "print(\"Train Score LinearSVC:\", train_score_svm)\n",
        "print(\"Test Score LinearSVC:\", test_score_svm)"
      ],
      "metadata": {
        "colab": {
          "base_uri": "https://localhost:8080/"
        },
        "id": "WeN9O8qIUiZR",
        "outputId": "202700fa-e17a-4281-8d24-797df1e19460"
      },
      "execution_count": null,
      "outputs": [
        {
          "output_type": "stream",
          "name": "stdout",
          "text": [
            "Train Score LinearSVC: 0.9554571428571429\n",
            "Test Score LinearSVC: 0.8785333333333334\n"
          ]
        }
      ]
    },
    {
      "cell_type": "markdown",
      "source": [
        "**Evaluation of the LinearSVC model.**"
      ],
      "metadata": {
        "id": "-oBtX8Quv9w4"
      }
    },
    {
      "cell_type": "code",
      "source": [
        "# Дивимось оцінку моделі Linear SVC\n",
        "y_pred_svm = svm_model.predict(X_test_combined)\n",
        "print(classification_report(y_test, y_pred_svm))"
      ],
      "metadata": {
        "colab": {
          "base_uri": "https://localhost:8080/"
        },
        "id": "gPgWsqprVnHm",
        "outputId": "0f08de34-3dbb-48ea-dc48-1c5786dbd15c"
      },
      "execution_count": null,
      "outputs": [
        {
          "output_type": "stream",
          "name": "stdout",
          "text": [
            "              precision    recall  f1-score   support\n",
            "\n",
            "           0       0.89      0.87      0.88      3722\n",
            "           1       0.87      0.89      0.88      3778\n",
            "\n",
            "    accuracy                           0.88      7500\n",
            "   macro avg       0.88      0.88      0.88      7500\n",
            "weighted avg       0.88      0.88      0.88      7500\n",
            "\n"
          ]
        }
      ]
    },
    {
      "cell_type": "markdown",
      "source": [
        "**Let's also try the LogisticRegression model.**"
      ],
      "metadata": {
        "id": "qCR6oC09wFs_"
      }
    },
    {
      "cell_type": "code",
      "source": [
        "# Пробуємо тепер модель LogisticRegression\n",
        "lr_model = LogisticRegression(max_iter=5000, random_state=42)\n",
        "lr_model.fit(X_train_combined, y_train)"
      ],
      "metadata": {
        "colab": {
          "base_uri": "https://localhost:8080/",
          "height": 75
        },
        "id": "9F-EnbVyV_BK",
        "outputId": "942b7eab-b6fe-4ac7-f3db-df7c3b6f00a2"
      },
      "execution_count": null,
      "outputs": [
        {
          "output_type": "execute_result",
          "data": {
            "text/plain": [
              "LogisticRegression(max_iter=5000, random_state=42)"
            ],
            "text/html": [
              "<style>#sk-container-id-3 {color: black;background-color: white;}#sk-container-id-3 pre{padding: 0;}#sk-container-id-3 div.sk-toggleable {background-color: white;}#sk-container-id-3 label.sk-toggleable__label {cursor: pointer;display: block;width: 100%;margin-bottom: 0;padding: 0.3em;box-sizing: border-box;text-align: center;}#sk-container-id-3 label.sk-toggleable__label-arrow:before {content: \"▸\";float: left;margin-right: 0.25em;color: #696969;}#sk-container-id-3 label.sk-toggleable__label-arrow:hover:before {color: black;}#sk-container-id-3 div.sk-estimator:hover label.sk-toggleable__label-arrow:before {color: black;}#sk-container-id-3 div.sk-toggleable__content {max-height: 0;max-width: 0;overflow: hidden;text-align: left;background-color: #f0f8ff;}#sk-container-id-3 div.sk-toggleable__content pre {margin: 0.2em;color: black;border-radius: 0.25em;background-color: #f0f8ff;}#sk-container-id-3 input.sk-toggleable__control:checked~div.sk-toggleable__content {max-height: 200px;max-width: 100%;overflow: auto;}#sk-container-id-3 input.sk-toggleable__control:checked~label.sk-toggleable__label-arrow:before {content: \"▾\";}#sk-container-id-3 div.sk-estimator input.sk-toggleable__control:checked~label.sk-toggleable__label {background-color: #d4ebff;}#sk-container-id-3 div.sk-label input.sk-toggleable__control:checked~label.sk-toggleable__label {background-color: #d4ebff;}#sk-container-id-3 input.sk-hidden--visually {border: 0;clip: rect(1px 1px 1px 1px);clip: rect(1px, 1px, 1px, 1px);height: 1px;margin: -1px;overflow: hidden;padding: 0;position: absolute;width: 1px;}#sk-container-id-3 div.sk-estimator {font-family: monospace;background-color: #f0f8ff;border: 1px dotted black;border-radius: 0.25em;box-sizing: border-box;margin-bottom: 0.5em;}#sk-container-id-3 div.sk-estimator:hover {background-color: #d4ebff;}#sk-container-id-3 div.sk-parallel-item::after {content: \"\";width: 100%;border-bottom: 1px solid gray;flex-grow: 1;}#sk-container-id-3 div.sk-label:hover label.sk-toggleable__label {background-color: #d4ebff;}#sk-container-id-3 div.sk-serial::before {content: \"\";position: absolute;border-left: 1px solid gray;box-sizing: border-box;top: 0;bottom: 0;left: 50%;z-index: 0;}#sk-container-id-3 div.sk-serial {display: flex;flex-direction: column;align-items: center;background-color: white;padding-right: 0.2em;padding-left: 0.2em;position: relative;}#sk-container-id-3 div.sk-item {position: relative;z-index: 1;}#sk-container-id-3 div.sk-parallel {display: flex;align-items: stretch;justify-content: center;background-color: white;position: relative;}#sk-container-id-3 div.sk-item::before, #sk-container-id-3 div.sk-parallel-item::before {content: \"\";position: absolute;border-left: 1px solid gray;box-sizing: border-box;top: 0;bottom: 0;left: 50%;z-index: -1;}#sk-container-id-3 div.sk-parallel-item {display: flex;flex-direction: column;z-index: 1;position: relative;background-color: white;}#sk-container-id-3 div.sk-parallel-item:first-child::after {align-self: flex-end;width: 50%;}#sk-container-id-3 div.sk-parallel-item:last-child::after {align-self: flex-start;width: 50%;}#sk-container-id-3 div.sk-parallel-item:only-child::after {width: 0;}#sk-container-id-3 div.sk-dashed-wrapped {border: 1px dashed gray;margin: 0 0.4em 0.5em 0.4em;box-sizing: border-box;padding-bottom: 0.4em;background-color: white;}#sk-container-id-3 div.sk-label label {font-family: monospace;font-weight: bold;display: inline-block;line-height: 1.2em;}#sk-container-id-3 div.sk-label-container {text-align: center;}#sk-container-id-3 div.sk-container {/* jupyter's `normalize.less` sets `[hidden] { display: none; }` but bootstrap.min.css set `[hidden] { display: none !important; }` so we also need the `!important` here to be able to override the default hidden behavior on the sphinx rendered scikit-learn.org. See: https://github.com/scikit-learn/scikit-learn/issues/21755 */display: inline-block !important;position: relative;}#sk-container-id-3 div.sk-text-repr-fallback {display: none;}</style><div id=\"sk-container-id-3\" class=\"sk-top-container\"><div class=\"sk-text-repr-fallback\"><pre>LogisticRegression(max_iter=5000, random_state=42)</pre><b>In a Jupyter environment, please rerun this cell to show the HTML representation or trust the notebook. <br />On GitHub, the HTML representation is unable to render, please try loading this page with nbviewer.org.</b></div><div class=\"sk-container\" hidden><div class=\"sk-item\"><div class=\"sk-estimator sk-toggleable\"><input class=\"sk-toggleable__control sk-hidden--visually\" id=\"sk-estimator-id-3\" type=\"checkbox\" checked><label for=\"sk-estimator-id-3\" class=\"sk-toggleable__label sk-toggleable__label-arrow\">LogisticRegression</label><div class=\"sk-toggleable__content\"><pre>LogisticRegression(max_iter=5000, random_state=42)</pre></div></div></div></div></div>"
            ]
          },
          "metadata": {},
          "execution_count": 29
        }
      ]
    },
    {
      "cell_type": "markdown",
      "source": [
        "**Calculating the evaluation of the LogisticRegression model on the training and test samples.**"
      ],
      "metadata": {
        "id": "85Qo8mHxwPBB"
      }
    },
    {
      "cell_type": "code",
      "source": [
        "# Розраховуємо оцінки на тренувальній та тестовій вибірці:\n",
        "train_score_lr = lr_model.score(X_train_combined, y_train)\n",
        "test_score_lr = lr_model.score(X_test_combined, y_test)\n",
        "print(\"Train Score Logistic Regression:\", train_score_lr)\n",
        "print(\"Test Score Logistic Regression:\", test_score_lr)"
      ],
      "metadata": {
        "colab": {
          "base_uri": "https://localhost:8080/"
        },
        "id": "RLYdxq02WMQu",
        "outputId": "8316f04e-f955-44c4-d0c8-55ca73501b3f"
      },
      "execution_count": null,
      "outputs": [
        {
          "output_type": "stream",
          "name": "stdout",
          "text": [
            "Train Score Logistic Regression: 0.9151428571428571\n",
            "Test Score Logistic Regression: 0.8862666666666666\n"
          ]
        }
      ]
    },
    {
      "cell_type": "markdown",
      "source": [
        "**Evaluation of the LogisticRegression model.**"
      ],
      "metadata": {
        "id": "GgfuE6tjwpOk"
      }
    },
    {
      "cell_type": "code",
      "source": [
        "# Дивимось оцінку моделі LogisticRegression\n",
        "y_pred_logistic = lr_model.predict(X_test_combined)\n",
        "print(classification_report(y_test, y_pred_logistic))"
      ],
      "metadata": {
        "colab": {
          "base_uri": "https://localhost:8080/"
        },
        "id": "f6DdEilfWOYB",
        "outputId": "b7682de8-9912-4123-daf6-34f1836e7a51"
      },
      "execution_count": null,
      "outputs": [
        {
          "output_type": "stream",
          "name": "stdout",
          "text": [
            "              precision    recall  f1-score   support\n",
            "\n",
            "           0       0.90      0.87      0.88      3722\n",
            "           1       0.88      0.90      0.89      3778\n",
            "\n",
            "    accuracy                           0.89      7500\n",
            "   macro avg       0.89      0.89      0.89      7500\n",
            "weighted avg       0.89      0.89      0.89      7500\n",
            "\n"
          ]
        }
      ]
    },
    {
      "cell_type": "markdown",
      "source": [
        "**Overall, we have a similar situation to the previous task (Сlassification  sci-kit learn). The SVM model shows worse results, and judging by the scores on the test and train sets, it appears to be a bit overfitted.**"
      ],
      "metadata": {
        "id": "YZGjoZ11w7FC"
      }
    },
    {
      "cell_type": "code",
      "source": [
        "# Загалом, маємо схожу картину з попереднім ДЗ. Модель SVM показує гірші результати,\n",
        "# і судячи зі скорів на тестовій та трейн виборках, то в ній присутнє деяке перенавчання"
      ],
      "metadata": {
        "id": "gz-w08aJWWFq"
      },
      "execution_count": null,
      "outputs": []
    },
    {
      "cell_type": "markdown",
      "source": [
        "**Hyperparameters for LogisticRegression.**"
      ],
      "metadata": {
        "id": "oJC3n5LWyAal"
      }
    },
    {
      "cell_type": "code",
      "source": [
        "# tuning hyperparameters for LogisticRegression model:\n",
        "# Підбираємо гіперпараметри для LogisticRegression\n",
        "param_grid = {\n",
        "    \"C\": [0.001, 0.01, 0.1, 1, 10, 100],\n",
        "}\n",
        "grid_search = GridSearchCV(lr_model, param_grid, cv=5, scoring=\"accuracy\")\n",
        "grid_search.fit(X_val_combined, y_val)\n",
        "best_lr_params = grid_search.best_params_\n",
        "best_lr_model = grid_search.best_estimator_\n",
        "print(\"Best LR Parameters:\", best_lr_params)\n",
        "print(\"Best LR Model:\", best_lr_model)"
      ],
      "metadata": {
        "colab": {
          "base_uri": "https://localhost:8080/"
        },
        "id": "Dgl5eOQoXJfI",
        "outputId": "ce8e83fb-1253-4225-e1dd-e9222d19a7a1"
      },
      "execution_count": null,
      "outputs": [
        {
          "output_type": "stream",
          "name": "stdout",
          "text": [
            "Best LR Parameters: {'C': 1}\n",
            "Best LR Model: LogisticRegression(C=1, max_iter=5000, random_state=42)\n"
          ]
        }
      ]
    },
    {
      "cell_type": "markdown",
      "source": [
        "**Evaluating on the validation data.**"
      ],
      "metadata": {
        "id": "fi4_CZU6yM3E"
      }
    },
    {
      "cell_type": "code",
      "source": [
        "# Оцінюємо на валідаційних даних\n",
        "valid_accuracy_lr = best_lr_model.score(X_val_combined, y_val)\n",
        "print(\"Validation LR Accuracy:\", valid_accuracy_lr)"
      ],
      "metadata": {
        "colab": {
          "base_uri": "https://localhost:8080/"
        },
        "id": "6AvUVxCaXR_L",
        "outputId": "7ed522e6-3bc7-43dd-adde-f692dda53b34"
      },
      "execution_count": null,
      "outputs": [
        {
          "output_type": "stream",
          "name": "stdout",
          "text": [
            "Validation LR Accuracy: 0.9305333333333333\n"
          ]
        }
      ]
    },
    {
      "cell_type": "markdown",
      "source": [
        "**During preprocessing, I was trying various text preparation techniques, which was probably the longest part of this work. Minimal \"cleaning\" parameters yielded only about 75-80% precision. When attempting to reduce the dataset to expedite finding the optimal approach, both models were overfitted. Eventually, I found a solution where I achieved results similar to the previous assignment, albeit slightly worse: precision/recall by 0.1-0.2 and accuracy by 0.05-0.1. However, overall, these results are also quite good.**"
      ],
      "metadata": {
        "id": "_lIKLsfmReZv"
      }
    },
    {
      "cell_type": "code",
      "source": [
        "# На препроцесингу пробувала різні варіанти підготовки тексту, це було напевно найдовше в цій роботі,\n",
        "# так як мінімальні параметри \"очистки\" давали лише близько 75-80% precision,\n",
        "# а при спробі зменшити датасет, щоб швидше підібрати оптимальний варіант, було перенавчання обох моделей.\n",
        "\n",
        "# Тож зрештою, знайшла варіант, при якому отримала подібні до попереднього ДЗ результати,\n",
        "# вони трошки гірші: precision/recall на 0.1-0.2, і accuracy на 0.05-0.1\n",
        "# Але, загалом, ці результати також досить непогані."
      ],
      "metadata": {
        "id": "JlhWX52FXhhd"
      },
      "execution_count": null,
      "outputs": []
    }
  ]
}